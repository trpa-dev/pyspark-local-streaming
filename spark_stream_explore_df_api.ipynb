{
 "cells": [
  {
   "cell_type": "code",
   "execution_count": 1,
   "metadata": {
    "scrolled": true
   },
   "outputs": [
    {
     "name": "stderr",
     "output_type": "stream",
     "text": [
      "23/05/20 06:40:23 WARN Utils: Your hostname, mia-VirtualBox resolves to a loopback address: 127.0.1.1; using 10.0.2.15 instead (on interface enp0s3)\n",
      "23/05/20 06:40:23 WARN Utils: Set SPARK_LOCAL_IP if you need to bind to another address\n",
      "Setting default log level to \"WARN\".\n",
      "To adjust logging level use sc.setLogLevel(newLevel). For SparkR, use setLogLevel(newLevel).\n",
      "23/05/20 06:40:24 WARN NativeCodeLoader: Unable to load native-hadoop library for your platform... using builtin-java classes where applicable\n"
     ]
    }
   ],
   "source": [
    "from pyspark.sql import SparkSession\n",
    "from pyspark.sql.functions import explode, split, from_json, col, format_number\n",
    "from pyspark.sql.types import StringType, FloatType, StructType, StructField\n",
    "\n",
    "spark = SparkSession \\\n",
    "    .builder \\\n",
    "    .appName('LocalStreamSample') \\\n",
    "    .getOrCreate()"
   ]
  },
  {
   "cell_type": "code",
   "execution_count": 2,
   "metadata": {},
   "outputs": [
    {
     "name": "stderr",
     "output_type": "stream",
     "text": [
      "23/05/20 06:40:25 WARN TextSocketSourceProvider: The socket source should not be used for production applications! It does not support recovery.\n"
     ]
    }
   ],
   "source": [
    "# Create DataFrame for input Stream\n",
    "data = spark \\\n",
    "    .readStream \\\n",
    "    .format('socket') \\\n",
    "    .option('host', 'localhost') \\\n",
    "    .option('port', '9999') \\\n",
    "    .load()\n",
    "\n",
    "schema = StructType(\n",
    "    [\n",
    "        StructField('account_id', StringType(), True),\n",
    "        StructField('account_region', StringType(), True),\n",
    "        StructField('transaction_value', FloatType(), True),\n",
    "    ]\n",
    ")\n",
    "\n",
    "# Stream Listening View\n",
    "json_data = data.withColumn('json_data', from_json(col('value'), schema)) \\\n",
    "                .select('json_data.*')\n",
    "\n",
    "# Credit Flow by Region View\n",
    "# Comment for Stream Listening View\n",
    "region_data = json_data.groupBy('account_region').sum() \\\n",
    "                .withColumn('credit_flow', format_number('sum(transaction_value)', 2)) \\\n",
    "                .select(['account_region', 'credit_flow'])"
   ]
  },
  {
   "cell_type": "code",
   "execution_count": 3,
   "metadata": {},
   "outputs": [
    {
     "name": "stderr",
     "output_type": "stream",
     "text": [
      "23/05/20 06:40:28 WARN ResolveWriteToStream: Temporary checkpoint location created which is deleted normally when the query didn't fail: /tmp/temporary-de604aa0-1037-42b0-8a86-82a3d8d668c7. If it's required to delete it under any circumstances, please set spark.sql.streaming.forceDeleteTempCheckpointLocation to true. Important to know deleting temp checkpoint folder is best effort.\n",
      "23/05/20 06:40:28 WARN ResolveWriteToStream: spark.sql.adaptive.enabled is not supported in streaming DataFrames/Datasets and will be disabled.\n",
      "                                                                                \r"
     ]
    },
    {
     "name": "stdout",
     "output_type": "stream",
     "text": [
      "-------------------------------------------\n",
      "Batch: 0\n",
      "-------------------------------------------\n",
      "+--------------+-----------+\n",
      "|account_region|credit_flow|\n",
      "+--------------+-----------+\n",
      "+--------------+-----------+\n",
      "\n"
     ]
    },
    {
     "name": "stderr",
     "output_type": "stream",
     "text": [
      "                                                                                \r"
     ]
    },
    {
     "name": "stdout",
     "output_type": "stream",
     "text": [
      "-------------------------------------------\n",
      "Batch: 1\n",
      "-------------------------------------------\n",
      "+-----------------+-----------+\n",
      "|   account_region|credit_flow|\n",
      "+-----------------+-----------+\n",
      "|    East Asian TZ|   5,452.89|\n",
      "|North American TZ|  15,087.78|\n",
      "+-----------------+-----------+\n",
      "\n"
     ]
    },
    {
     "name": "stderr",
     "output_type": "stream",
     "text": [
      "                                                                                \r"
     ]
    },
    {
     "name": "stdout",
     "output_type": "stream",
     "text": [
      "-------------------------------------------\n",
      "Batch: 2\n",
      "-------------------------------------------\n",
      "+-----------------+-----------+\n",
      "|   account_region|credit_flow|\n",
      "+-----------------+-----------+\n",
      "|    East Asian TZ|   5,945.32|\n",
      "|North American TZ|  20,884.54|\n",
      "+-----------------+-----------+\n",
      "\n"
     ]
    },
    {
     "name": "stderr",
     "output_type": "stream",
     "text": [
      "                                                                                \r"
     ]
    },
    {
     "name": "stdout",
     "output_type": "stream",
     "text": [
      "-------------------------------------------\n",
      "Batch: 3\n",
      "-------------------------------------------\n",
      "+-----------------+-----------+\n",
      "|   account_region|credit_flow|\n",
      "+-----------------+-----------+\n",
      "|    East Asian TZ|   5,945.32|\n",
      "|North American TZ|  46,314.33|\n",
      "+-----------------+-----------+\n",
      "\n"
     ]
    },
    {
     "name": "stderr",
     "output_type": "stream",
     "text": [
      "                                                                                \r"
     ]
    },
    {
     "name": "stdout",
     "output_type": "stream",
     "text": [
      "-------------------------------------------\n",
      "Batch: 4\n",
      "-------------------------------------------\n",
      "+-----------------+-----------+\n",
      "|   account_region|credit_flow|\n",
      "+-----------------+-----------+\n",
      "|  African Free TZ|   9,108.00|\n",
      "|    East Asian TZ|   5,945.32|\n",
      "|North American TZ|  46,314.33|\n",
      "+-----------------+-----------+\n",
      "\n"
     ]
    },
    {
     "name": "stderr",
     "output_type": "stream",
     "text": [
      "                                                                                \r"
     ]
    },
    {
     "name": "stdout",
     "output_type": "stream",
     "text": [
      "-------------------------------------------\n",
      "Batch: 5\n",
      "-------------------------------------------\n",
      "+-----------------+-----------+\n",
      "|   account_region|credit_flow|\n",
      "+-----------------+-----------+\n",
      "|  African Free TZ|   9,108.00|\n",
      "|    East Asian TZ|  11,550.98|\n",
      "|North American TZ|  53,789.55|\n",
      "+-----------------+-----------+\n",
      "\n"
     ]
    },
    {
     "name": "stderr",
     "output_type": "stream",
     "text": [
      "                                                                                \r"
     ]
    },
    {
     "name": "stdout",
     "output_type": "stream",
     "text": [
      "-------------------------------------------\n",
      "Batch: 6\n",
      "-------------------------------------------\n",
      "+-----------------+-----------+\n",
      "|   account_region|credit_flow|\n",
      "+-----------------+-----------+\n",
      "|  African Free TZ|   9,108.00|\n",
      "|    East Asian TZ|  24,537.29|\n",
      "|North American TZ|  53,789.55|\n",
      "+-----------------+-----------+\n",
      "\n"
     ]
    },
    {
     "name": "stderr",
     "output_type": "stream",
     "text": [
      "                                                                                \r"
     ]
    },
    {
     "name": "stdout",
     "output_type": "stream",
     "text": [
      "-------------------------------------------\n",
      "Batch: 7\n",
      "-------------------------------------------\n",
      "+-----------------+-----------+\n",
      "|   account_region|credit_flow|\n",
      "+-----------------+-----------+\n",
      "|  African Free TZ|   9,108.00|\n",
      "|    East Asian TZ|  41,684.75|\n",
      "|North American TZ|  53,789.55|\n",
      "+-----------------+-----------+\n",
      "\n"
     ]
    },
    {
     "name": "stderr",
     "output_type": "stream",
     "text": [
      "                                                                                \r"
     ]
    },
    {
     "name": "stdout",
     "output_type": "stream",
     "text": [
      "-------------------------------------------\n",
      "Batch: 8\n",
      "-------------------------------------------\n",
      "+-----------------+-----------+\n",
      "|   account_region|credit_flow|\n",
      "+-----------------+-----------+\n",
      "|  African Free TZ|   9,108.00|\n",
      "|    East Asian TZ|  46,463.15|\n",
      "|       Eurasia TZ|  12,134.99|\n",
      "|North American TZ|  54,144.80|\n",
      "+-----------------+-----------+\n",
      "\n"
     ]
    },
    {
     "name": "stderr",
     "output_type": "stream",
     "text": [
      "                                                                                \r"
     ]
    },
    {
     "name": "stdout",
     "output_type": "stream",
     "text": [
      "-------------------------------------------\n",
      "Batch: 9\n",
      "-------------------------------------------\n",
      "+-----------------+-----------+\n",
      "|   account_region|credit_flow|\n",
      "+-----------------+-----------+\n",
      "|  African Free TZ|   9,108.00|\n",
      "|    East Asian TZ|  52,067.87|\n",
      "|       Eurasia TZ|  14,623.08|\n",
      "|North American TZ|  54,144.80|\n",
      "+-----------------+-----------+\n",
      "\n"
     ]
    },
    {
     "name": "stderr",
     "output_type": "stream",
     "text": [
      "                                                                                \r"
     ]
    },
    {
     "name": "stdout",
     "output_type": "stream",
     "text": [
      "-------------------------------------------\n",
      "Batch: 10\n",
      "-------------------------------------------\n",
      "+-----------------+-----------+\n",
      "|   account_region|credit_flow|\n",
      "+-----------------+-----------+\n",
      "|  African Free TZ|   9,108.00|\n",
      "|    East Asian TZ|  58,071.89|\n",
      "|       Eurasia TZ|  14,623.08|\n",
      "|North American TZ|  54,144.80|\n",
      "+-----------------+-----------+\n",
      "\n"
     ]
    },
    {
     "name": "stderr",
     "output_type": "stream",
     "text": [
      "                                                                                \r"
     ]
    },
    {
     "name": "stdout",
     "output_type": "stream",
     "text": [
      "-------------------------------------------\n",
      "Batch: 11\n",
      "-------------------------------------------\n",
      "+-----------------+-----------+\n",
      "|   account_region|credit_flow|\n",
      "+-----------------+-----------+\n",
      "|  African Free TZ|   9,108.00|\n",
      "|    East Asian TZ|  58,071.89|\n",
      "|       Eurasia TZ|  14,623.08|\n",
      "|North American TZ|  63,747.09|\n",
      "+-----------------+-----------+\n",
      "\n"
     ]
    },
    {
     "name": "stderr",
     "output_type": "stream",
     "text": [
      "                                                                                \r"
     ]
    },
    {
     "name": "stdout",
     "output_type": "stream",
     "text": [
      "-------------------------------------------\n",
      "Batch: 12\n",
      "-------------------------------------------\n",
      "+-----------------+-----------+\n",
      "|   account_region|credit_flow|\n",
      "+-----------------+-----------+\n",
      "|  African Free TZ|   9,108.00|\n",
      "|    East Asian TZ|  58,071.89|\n",
      "|       Eurasia TZ|  20,596.18|\n",
      "|North American TZ|  63,747.09|\n",
      "+-----------------+-----------+\n",
      "\n"
     ]
    },
    {
     "name": "stderr",
     "output_type": "stream",
     "text": [
      "                                                                                \r"
     ]
    },
    {
     "name": "stdout",
     "output_type": "stream",
     "text": [
      "-------------------------------------------\n",
      "Batch: 13\n",
      "-------------------------------------------\n",
      "+-----------------+-----------+\n",
      "|   account_region|credit_flow|\n",
      "+-----------------+-----------+\n",
      "|  African Free TZ|  11,953.14|\n",
      "|    East Asian TZ|  58,071.89|\n",
      "|       Eurasia TZ|  29,398.81|\n",
      "|North American TZ|  63,747.09|\n",
      "+-----------------+-----------+\n",
      "\n"
     ]
    },
    {
     "name": "stderr",
     "output_type": "stream",
     "text": [
      "                                                                                \r"
     ]
    },
    {
     "name": "stdout",
     "output_type": "stream",
     "text": [
      "-------------------------------------------\n",
      "Batch: 14\n",
      "-------------------------------------------\n",
      "+-----------------+-----------+\n",
      "|   account_region|credit_flow|\n",
      "+-----------------+-----------+\n",
      "|  African Free TZ|  11,953.14|\n",
      "|    East Asian TZ|  58,071.89|\n",
      "|       Eurasia TZ|  35,399.01|\n",
      "|North American TZ|  63,747.09|\n",
      "+-----------------+-----------+\n",
      "\n"
     ]
    },
    {
     "name": "stderr",
     "output_type": "stream",
     "text": [
      "                                                                                \r"
     ]
    },
    {
     "name": "stdout",
     "output_type": "stream",
     "text": [
      "-------------------------------------------\n",
      "Batch: 15\n",
      "-------------------------------------------\n",
      "+-----------------+-----------+\n",
      "|   account_region|credit_flow|\n",
      "+-----------------+-----------+\n",
      "|  African Free TZ|  19,431.86|\n",
      "|    East Asian TZ|  65,898.18|\n",
      "|       Eurasia TZ|  35,399.01|\n",
      "|North American TZ|  67,451.75|\n",
      "+-----------------+-----------+\n",
      "\n"
     ]
    },
    {
     "name": "stderr",
     "output_type": "stream",
     "text": [
      "                                                                                \r"
     ]
    },
    {
     "name": "stdout",
     "output_type": "stream",
     "text": [
      "-------------------------------------------\n",
      "Batch: 16\n",
      "-------------------------------------------\n",
      "+-----------------+-----------+\n",
      "|   account_region|credit_flow|\n",
      "+-----------------+-----------+\n",
      "|  African Free TZ|  19,431.86|\n",
      "|    East Asian TZ|  65,992.75|\n",
      "|       Eurasia TZ|  35,399.01|\n",
      "|North American TZ|  67,451.75|\n",
      "+-----------------+-----------+\n",
      "\n"
     ]
    },
    {
     "name": "stderr",
     "output_type": "stream",
     "text": [
      "                                                                                \r"
     ]
    },
    {
     "name": "stdout",
     "output_type": "stream",
     "text": [
      "-------------------------------------------\n",
      "Batch: 17\n",
      "-------------------------------------------\n",
      "+-----------------+-----------+\n",
      "|   account_region|credit_flow|\n",
      "+-----------------+-----------+\n",
      "|  African Free TZ|  19,431.86|\n",
      "|    East Asian TZ|  65,992.75|\n",
      "|       Eurasia TZ|  37,882.72|\n",
      "|North American TZ|  67,451.75|\n",
      "+-----------------+-----------+\n",
      "\n"
     ]
    },
    {
     "name": "stderr",
     "output_type": "stream",
     "text": [
      "                                                                                \r"
     ]
    },
    {
     "name": "stdout",
     "output_type": "stream",
     "text": [
      "-------------------------------------------\n",
      "Batch: 18\n",
      "-------------------------------------------\n",
      "+-----------------+-----------+\n",
      "|   account_region|credit_flow|\n",
      "+-----------------+-----------+\n",
      "|  African Free TZ|  19,431.86|\n",
      "|    East Asian TZ|  65,992.75|\n",
      "|       Eurasia TZ|  37,882.72|\n",
      "|North American TZ|  67,451.75|\n",
      "|   South Asian TZ|   2,533.99|\n",
      "+-----------------+-----------+\n",
      "\n"
     ]
    },
    {
     "name": "stderr",
     "output_type": "stream",
     "text": [
      "                                                                                \r"
     ]
    },
    {
     "name": "stdout",
     "output_type": "stream",
     "text": [
      "-------------------------------------------\n",
      "Batch: 19\n",
      "-------------------------------------------\n",
      "+-----------------+-----------+\n",
      "|   account_region|credit_flow|\n",
      "+-----------------+-----------+\n",
      "|  African Free TZ|  19,431.86|\n",
      "|    East Asian TZ|  67,841.33|\n",
      "|       Eurasia TZ|  45,710.97|\n",
      "|North American TZ|  67,451.75|\n",
      "|   South Asian TZ|   2,533.99|\n",
      "+-----------------+-----------+\n",
      "\n"
     ]
    },
    {
     "name": "stderr",
     "output_type": "stream",
     "text": [
      "                                                                                \r"
     ]
    },
    {
     "name": "stdout",
     "output_type": "stream",
     "text": [
      "-------------------------------------------\n",
      "Batch: 20\n",
      "-------------------------------------------\n",
      "+-----------------+-----------+\n",
      "|   account_region|credit_flow|\n",
      "+-----------------+-----------+\n",
      "|  African Free TZ|  19,431.86|\n",
      "|    East Asian TZ|  67,841.33|\n",
      "|       Eurasia TZ|  45,710.97|\n",
      "|North American TZ|  68,843.30|\n",
      "|   South Asian TZ|   2,533.99|\n",
      "+-----------------+-----------+\n",
      "\n"
     ]
    },
    {
     "name": "stderr",
     "output_type": "stream",
     "text": [
      "                                                                                \r"
     ]
    },
    {
     "name": "stdout",
     "output_type": "stream",
     "text": [
      "-------------------------------------------\n",
      "Batch: 21\n",
      "-------------------------------------------\n",
      "+-----------------+-----------+\n",
      "|   account_region|credit_flow|\n",
      "+-----------------+-----------+\n",
      "|  African Free TZ|  19,431.86|\n",
      "|    East Asian TZ|  78,073.18|\n",
      "|       Eurasia TZ|  45,710.97|\n",
      "|North American TZ|  68,843.30|\n",
      "|   South Asian TZ|   2,533.99|\n",
      "+-----------------+-----------+\n",
      "\n"
     ]
    },
    {
     "name": "stderr",
     "output_type": "stream",
     "text": [
      "                                                                                \r"
     ]
    },
    {
     "name": "stdout",
     "output_type": "stream",
     "text": [
      "-------------------------------------------\n",
      "Batch: 22\n",
      "-------------------------------------------\n",
      "+-----------------+-----------+\n",
      "|   account_region|credit_flow|\n",
      "+-----------------+-----------+\n",
      "|  African Free TZ|  20,545.77|\n",
      "|    East Asian TZ|  78,073.18|\n",
      "|       Eurasia TZ|  45,710.97|\n",
      "|North American TZ|  68,843.30|\n",
      "|   South Asian TZ|   2,533.99|\n",
      "+-----------------+-----------+\n",
      "\n"
     ]
    },
    {
     "name": "stderr",
     "output_type": "stream",
     "text": [
      "                                                                                \r"
     ]
    },
    {
     "name": "stdout",
     "output_type": "stream",
     "text": [
      "-------------------------------------------\n",
      "Batch: 23\n",
      "-------------------------------------------\n",
      "+-----------------+-----------+\n",
      "|   account_region|credit_flow|\n",
      "+-----------------+-----------+\n",
      "|  African Free TZ|  20,545.77|\n",
      "|    East Asian TZ|  78,073.18|\n",
      "|       Eurasia TZ|  45,710.97|\n",
      "|North American TZ|  74,462.24|\n",
      "|   South Asian TZ|   2,533.99|\n",
      "+-----------------+-----------+\n",
      "\n"
     ]
    },
    {
     "name": "stderr",
     "output_type": "stream",
     "text": [
      "                                                                                \r"
     ]
    },
    {
     "name": "stdout",
     "output_type": "stream",
     "text": [
      "-------------------------------------------\n",
      "Batch: 24\n",
      "-------------------------------------------\n",
      "+-----------------+-----------+\n",
      "|   account_region|credit_flow|\n",
      "+-----------------+-----------+\n",
      "|  African Free TZ|  20,545.77|\n",
      "|    East Asian TZ|  78,073.18|\n",
      "|       Eurasia TZ|  45,710.97|\n",
      "|North American TZ|  75,100.71|\n",
      "|   South Asian TZ|   2,533.99|\n",
      "+-----------------+-----------+\n",
      "\n"
     ]
    },
    {
     "name": "stderr",
     "output_type": "stream",
     "text": [
      "                                                                                \r"
     ]
    },
    {
     "name": "stdout",
     "output_type": "stream",
     "text": [
      "-------------------------------------------\n",
      "Batch: 25\n",
      "-------------------------------------------\n",
      "+-----------------+-----------+\n",
      "|   account_region|credit_flow|\n",
      "+-----------------+-----------+\n",
      "|  African Free TZ|  20,545.77|\n",
      "|    East Asian TZ|  78,073.18|\n",
      "|       Eurasia TZ|  45,710.97|\n",
      "|North American TZ|  80,640.05|\n",
      "|   South Asian TZ|   2,533.99|\n",
      "+-----------------+-----------+\n",
      "\n"
     ]
    },
    {
     "name": "stderr",
     "output_type": "stream",
     "text": [
      "                                                                                \r"
     ]
    },
    {
     "name": "stdout",
     "output_type": "stream",
     "text": [
      "-------------------------------------------\n",
      "Batch: 26\n",
      "-------------------------------------------\n",
      "+-----------------+-----------+\n",
      "|   account_region|credit_flow|\n",
      "+-----------------+-----------+\n",
      "|  African Free TZ|  20,545.77|\n",
      "|    East Asian TZ|  78,073.18|\n",
      "|       Eurasia TZ|  45,710.97|\n",
      "|North American TZ|  88,787.40|\n",
      "|   South Asian TZ|   2,533.99|\n",
      "+-----------------+-----------+\n",
      "\n"
     ]
    },
    {
     "name": "stderr",
     "output_type": "stream",
     "text": [
      "                                                                                \r"
     ]
    },
    {
     "name": "stdout",
     "output_type": "stream",
     "text": [
      "-------------------------------------------\n",
      "Batch: 27\n",
      "-------------------------------------------\n",
      "+-----------------+-----------+\n",
      "|   account_region|credit_flow|\n",
      "+-----------------+-----------+\n",
      "|  African Free TZ|  28,101.53|\n",
      "|    East Asian TZ|  78,073.18|\n",
      "|       Eurasia TZ|  45,710.97|\n",
      "|North American TZ|  88,981.96|\n",
      "|   South Asian TZ|   2,533.99|\n",
      "+-----------------+-----------+\n",
      "\n"
     ]
    },
    {
     "name": "stderr",
     "output_type": "stream",
     "text": [
      "                                                                                \r"
     ]
    },
    {
     "name": "stdout",
     "output_type": "stream",
     "text": [
      "-------------------------------------------\n",
      "Batch: 28\n",
      "-------------------------------------------\n",
      "+-----------------+-----------+\n",
      "|   account_region|credit_flow|\n",
      "+-----------------+-----------+\n",
      "|  African Free TZ|  28,307.39|\n",
      "|    East Asian TZ|  78,073.18|\n",
      "|       Eurasia TZ|  45,710.97|\n",
      "|North American TZ|  88,981.96|\n",
      "|   South Asian TZ|   2,533.99|\n",
      "+-----------------+-----------+\n",
      "\n"
     ]
    },
    {
     "name": "stderr",
     "output_type": "stream",
     "text": [
      "                                                                                \r"
     ]
    },
    {
     "name": "stdout",
     "output_type": "stream",
     "text": [
      "-------------------------------------------\n",
      "Batch: 29\n",
      "-------------------------------------------\n",
      "+-----------------+-----------+\n",
      "|   account_region|credit_flow|\n",
      "+-----------------+-----------+\n",
      "|  African Free TZ|  28,307.39|\n",
      "|    East Asian TZ|  78,073.18|\n",
      "|       Eurasia TZ|  45,710.97|\n",
      "|North American TZ|  94,122.28|\n",
      "|   South Asian TZ|   2,533.99|\n",
      "+-----------------+-----------+\n",
      "\n"
     ]
    },
    {
     "name": "stderr",
     "output_type": "stream",
     "text": [
      "                                                                                \r"
     ]
    },
    {
     "name": "stdout",
     "output_type": "stream",
     "text": [
      "-------------------------------------------\n",
      "Batch: 30\n",
      "-------------------------------------------\n",
      "+-----------------+-----------+\n",
      "|   account_region|credit_flow|\n",
      "+-----------------+-----------+\n",
      "|  African Free TZ|  28,307.39|\n",
      "|    East Asian TZ|  78,073.18|\n",
      "|       Eurasia TZ|  62,031.96|\n",
      "|North American TZ|  99,731.35|\n",
      "|   South Asian TZ|   2,533.99|\n",
      "+-----------------+-----------+\n",
      "\n"
     ]
    },
    {
     "name": "stderr",
     "output_type": "stream",
     "text": [
      "                                                                                \r"
     ]
    },
    {
     "name": "stdout",
     "output_type": "stream",
     "text": [
      "-------------------------------------------\n",
      "Batch: 31\n",
      "-------------------------------------------\n",
      "+-----------------+-----------+\n",
      "|   account_region|credit_flow|\n",
      "+-----------------+-----------+\n",
      "|  African Free TZ|  28,307.39|\n",
      "|    East Asian TZ|  78,073.18|\n",
      "|       Eurasia TZ|  64,422.74|\n",
      "|North American TZ|  99,731.35|\n",
      "|   South Asian TZ|   2,533.99|\n",
      "+-----------------+-----------+\n",
      "\n"
     ]
    },
    {
     "name": "stderr",
     "output_type": "stream",
     "text": [
      "                                                                                \r"
     ]
    },
    {
     "name": "stdout",
     "output_type": "stream",
     "text": [
      "-------------------------------------------\n",
      "Batch: 32\n",
      "-------------------------------------------\n",
      "+-----------------+-----------+\n",
      "|   account_region|credit_flow|\n",
      "+-----------------+-----------+\n",
      "|  African Free TZ|  28,307.39|\n",
      "|    East Asian TZ|  78,073.18|\n",
      "|       Eurasia TZ|  71,519.65|\n",
      "|North American TZ| 108,499.03|\n",
      "|   South Asian TZ|  11,588.28|\n",
      "+-----------------+-----------+\n",
      "\n"
     ]
    },
    {
     "name": "stderr",
     "output_type": "stream",
     "text": [
      "                                                                                \r"
     ]
    },
    {
     "name": "stdout",
     "output_type": "stream",
     "text": [
      "-------------------------------------------\n",
      "Batch: 33\n",
      "-------------------------------------------\n",
      "+-----------------+-----------+\n",
      "|   account_region|credit_flow|\n",
      "+-----------------+-----------+\n",
      "|  African Free TZ|  28,307.39|\n",
      "|    East Asian TZ|  78,073.18|\n",
      "|       Eurasia TZ|  71,519.65|\n",
      "|North American TZ| 108,851.25|\n",
      "|   South Asian TZ|  11,588.28|\n",
      "+-----------------+-----------+\n",
      "\n"
     ]
    },
    {
     "name": "stderr",
     "output_type": "stream",
     "text": [
      "                                                                                \r"
     ]
    },
    {
     "name": "stdout",
     "output_type": "stream",
     "text": [
      "-------------------------------------------\n",
      "Batch: 34\n",
      "-------------------------------------------\n",
      "+-----------------+-----------+\n",
      "|   account_region|credit_flow|\n",
      "+-----------------+-----------+\n",
      "|  African Free TZ|  28,307.39|\n",
      "|    East Asian TZ|  78,073.18|\n",
      "|       Eurasia TZ|  71,519.65|\n",
      "|North American TZ| 111,507.87|\n",
      "|   South Asian TZ|  11,588.28|\n",
      "+-----------------+-----------+\n",
      "\n"
     ]
    },
    {
     "name": "stderr",
     "output_type": "stream",
     "text": [
      "                                                                                \r"
     ]
    },
    {
     "name": "stdout",
     "output_type": "stream",
     "text": [
      "-------------------------------------------\n",
      "Batch: 35\n",
      "-------------------------------------------\n",
      "+-----------------+-----------+\n",
      "|   account_region|credit_flow|\n",
      "+-----------------+-----------+\n",
      "|  African Free TZ|  28,307.39|\n",
      "|    East Asian TZ|  78,073.18|\n",
      "|       Eurasia TZ|  71,519.65|\n",
      "|North American TZ| 118,374.12|\n",
      "|   South Asian TZ|  11,588.28|\n",
      "+-----------------+-----------+\n",
      "\n"
     ]
    },
    {
     "name": "stderr",
     "output_type": "stream",
     "text": [
      "                                                                                \r"
     ]
    },
    {
     "name": "stdout",
     "output_type": "stream",
     "text": [
      "-------------------------------------------\n",
      "Batch: 36\n",
      "-------------------------------------------\n",
      "+-----------------+-----------+\n",
      "|   account_region|credit_flow|\n",
      "+-----------------+-----------+\n",
      "|  African Free TZ|  28,307.39|\n",
      "|    East Asian TZ|  83,109.58|\n",
      "|       Eurasia TZ|  71,519.65|\n",
      "|North American TZ| 118,374.12|\n",
      "|   South Asian TZ|  11,588.28|\n",
      "+-----------------+-----------+\n",
      "\n"
     ]
    },
    {
     "name": "stderr",
     "output_type": "stream",
     "text": [
      "                                                                                \r"
     ]
    },
    {
     "name": "stdout",
     "output_type": "stream",
     "text": [
      "-------------------------------------------\n",
      "Batch: 37\n",
      "-------------------------------------------\n",
      "+-----------------+-----------+\n",
      "|   account_region|credit_flow|\n",
      "+-----------------+-----------+\n",
      "|  African Free TZ|  28,307.39|\n",
      "|    East Asian TZ|  83,109.58|\n",
      "|       Eurasia TZ|  71,519.65|\n",
      "|North American TZ| 132,071.73|\n",
      "|   South Asian TZ|  11,588.28|\n",
      "+-----------------+-----------+\n",
      "\n"
     ]
    },
    {
     "name": "stderr",
     "output_type": "stream",
     "text": [
      "                                                                                \r"
     ]
    },
    {
     "name": "stdout",
     "output_type": "stream",
     "text": [
      "-------------------------------------------\n",
      "Batch: 38\n",
      "-------------------------------------------\n",
      "+-----------------+-----------+\n",
      "|   account_region|credit_flow|\n",
      "+-----------------+-----------+\n",
      "|  African Free TZ|  28,307.39|\n",
      "|    East Asian TZ|  83,109.58|\n",
      "|       Eurasia TZ|  72,294.88|\n",
      "|North American TZ| 132,071.73|\n",
      "|   South Asian TZ|  11,588.28|\n",
      "+-----------------+-----------+\n",
      "\n"
     ]
    },
    {
     "name": "stderr",
     "output_type": "stream",
     "text": [
      "                                                                                \r"
     ]
    },
    {
     "name": "stdout",
     "output_type": "stream",
     "text": [
      "-------------------------------------------\n",
      "Batch: 39\n",
      "-------------------------------------------\n",
      "+-----------------+-----------+\n",
      "|   account_region|credit_flow|\n",
      "+-----------------+-----------+\n",
      "|  African Free TZ|  28,307.39|\n",
      "|    East Asian TZ|  83,109.58|\n",
      "|       Eurasia TZ|  72,294.88|\n",
      "|North American TZ| 136,851.78|\n",
      "|   South Asian TZ|  11,588.28|\n",
      "+-----------------+-----------+\n",
      "\n"
     ]
    },
    {
     "name": "stderr",
     "output_type": "stream",
     "text": [
      "                                                                                \r"
     ]
    },
    {
     "name": "stdout",
     "output_type": "stream",
     "text": [
      "-------------------------------------------\n",
      "Batch: 40\n",
      "-------------------------------------------\n",
      "+-----------------+-----------+\n",
      "|   account_region|credit_flow|\n",
      "+-----------------+-----------+\n",
      "|  African Free TZ|  28,307.39|\n",
      "|    East Asian TZ|  83,109.58|\n",
      "|       Eurasia TZ|  78,981.67|\n",
      "|North American TZ| 143,973.80|\n",
      "|   South Asian TZ|  11,588.28|\n",
      "+-----------------+-----------+\n",
      "\n"
     ]
    },
    {
     "name": "stderr",
     "output_type": "stream",
     "text": [
      "                                                                                \r"
     ]
    },
    {
     "name": "stdout",
     "output_type": "stream",
     "text": [
      "-------------------------------------------\n",
      "Batch: 41\n",
      "-------------------------------------------\n",
      "+-----------------+-----------+\n",
      "|   account_region|credit_flow|\n",
      "+-----------------+-----------+\n",
      "|  African Free TZ|  29,888.71|\n",
      "|    East Asian TZ|  92,161.40|\n",
      "|       Eurasia TZ|  82,413.66|\n",
      "|North American TZ| 143,973.80|\n",
      "|   South Asian TZ|  11,588.28|\n",
      "+-----------------+-----------+\n",
      "\n"
     ]
    },
    {
     "name": "stderr",
     "output_type": "stream",
     "text": [
      "                                                                                \r"
     ]
    },
    {
     "name": "stdout",
     "output_type": "stream",
     "text": [
      "-------------------------------------------\n",
      "Batch: 42\n",
      "-------------------------------------------\n",
      "+-----------------+-----------+\n",
      "|   account_region|credit_flow|\n",
      "+-----------------+-----------+\n",
      "|  African Free TZ|  29,888.71|\n",
      "|    East Asian TZ|  94,851.93|\n",
      "|       Eurasia TZ|  82,413.66|\n",
      "|North American TZ| 143,973.80|\n",
      "|   South Asian TZ|  11,588.28|\n",
      "+-----------------+-----------+\n",
      "\n"
     ]
    },
    {
     "name": "stderr",
     "output_type": "stream",
     "text": [
      "                                                                                \r"
     ]
    },
    {
     "name": "stdout",
     "output_type": "stream",
     "text": [
      "-------------------------------------------\n",
      "Batch: 43\n",
      "-------------------------------------------\n",
      "+-----------------+-----------+\n",
      "|   account_region|credit_flow|\n",
      "+-----------------+-----------+\n",
      "|  African Free TZ|  29,888.71|\n",
      "|    East Asian TZ|  94,851.93|\n",
      "|       Eurasia TZ|  82,413.66|\n",
      "|North American TZ| 143,973.80|\n",
      "|   South Asian TZ|  11,700.95|\n",
      "+-----------------+-----------+\n",
      "\n"
     ]
    },
    {
     "name": "stderr",
     "output_type": "stream",
     "text": [
      "                                                                                \r"
     ]
    },
    {
     "name": "stdout",
     "output_type": "stream",
     "text": [
      "-------------------------------------------\n",
      "Batch: 44\n",
      "-------------------------------------------\n",
      "+-----------------+-----------+\n",
      "|   account_region|credit_flow|\n",
      "+-----------------+-----------+\n",
      "|  African Free TZ|  29,888.71|\n",
      "|    East Asian TZ|  94,851.93|\n",
      "|       Eurasia TZ|  82,413.66|\n",
      "|North American TZ| 149,730.51|\n",
      "|   South Asian TZ|  11,700.95|\n",
      "+-----------------+-----------+\n",
      "\n"
     ]
    },
    {
     "name": "stderr",
     "output_type": "stream",
     "text": [
      "                                                                                \r"
     ]
    },
    {
     "name": "stdout",
     "output_type": "stream",
     "text": [
      "-------------------------------------------\n",
      "Batch: 45\n",
      "-------------------------------------------\n",
      "+-----------------+-----------+\n",
      "|   account_region|credit_flow|\n",
      "+-----------------+-----------+\n",
      "|  African Free TZ|  29,888.71|\n",
      "|    East Asian TZ|  94,851.93|\n",
      "|       Eurasia TZ|  82,413.66|\n",
      "|North American TZ| 153,977.56|\n",
      "|   South Asian TZ|  11,700.95|\n",
      "+-----------------+-----------+\n",
      "\n"
     ]
    },
    {
     "name": "stderr",
     "output_type": "stream",
     "text": [
      "                                                                                \r"
     ]
    },
    {
     "name": "stdout",
     "output_type": "stream",
     "text": [
      "-------------------------------------------\n",
      "Batch: 46\n",
      "-------------------------------------------\n",
      "+-----------------+-----------+\n",
      "|   account_region|credit_flow|\n",
      "+-----------------+-----------+\n",
      "|  African Free TZ|  29,888.71|\n",
      "|    East Asian TZ|  96,570.39|\n",
      "|       Eurasia TZ|  82,413.66|\n",
      "|North American TZ| 153,977.56|\n",
      "|   South Asian TZ|  11,700.95|\n",
      "+-----------------+-----------+\n",
      "\n"
     ]
    },
    {
     "name": "stderr",
     "output_type": "stream",
     "text": [
      "                                                                                \r"
     ]
    },
    {
     "name": "stdout",
     "output_type": "stream",
     "text": [
      "-------------------------------------------\n",
      "Batch: 47\n",
      "-------------------------------------------\n",
      "+-----------------+-----------+\n",
      "|   account_region|credit_flow|\n",
      "+-----------------+-----------+\n",
      "|  African Free TZ|  29,888.71|\n",
      "|    East Asian TZ|  96,570.39|\n",
      "|       Eurasia TZ|  82,413.66|\n",
      "|North American TZ| 163,893.42|\n",
      "|   South Asian TZ|  11,700.95|\n",
      "+-----------------+-----------+\n",
      "\n"
     ]
    },
    {
     "name": "stderr",
     "output_type": "stream",
     "text": [
      "                                                                                \r"
     ]
    },
    {
     "name": "stdout",
     "output_type": "stream",
     "text": [
      "-------------------------------------------\n",
      "Batch: 48\n",
      "-------------------------------------------\n",
      "+-----------------+-----------+\n",
      "|   account_region|credit_flow|\n",
      "+-----------------+-----------+\n",
      "|  African Free TZ|  29,888.71|\n",
      "|    East Asian TZ|  96,570.39|\n",
      "|       Eurasia TZ|  82,413.66|\n",
      "|North American TZ| 171,009.80|\n",
      "|   South Asian TZ|  11,700.95|\n",
      "+-----------------+-----------+\n",
      "\n"
     ]
    },
    {
     "name": "stderr",
     "output_type": "stream",
     "text": [
      "                                                                                \r"
     ]
    },
    {
     "name": "stdout",
     "output_type": "stream",
     "text": [
      "-------------------------------------------\n",
      "Batch: 49\n",
      "-------------------------------------------\n",
      "+-----------------+-----------+\n",
      "|   account_region|credit_flow|\n",
      "+-----------------+-----------+\n",
      "|  African Free TZ|  29,888.71|\n",
      "|    East Asian TZ|  96,570.39|\n",
      "|       Eurasia TZ|  82,446.57|\n",
      "|North American TZ| 171,009.80|\n",
      "|   South Asian TZ|  11,700.95|\n",
      "+-----------------+-----------+\n",
      "\n"
     ]
    },
    {
     "name": "stderr",
     "output_type": "stream",
     "text": [
      "                                                                                \r"
     ]
    },
    {
     "name": "stdout",
     "output_type": "stream",
     "text": [
      "-------------------------------------------\n",
      "Batch: 50\n",
      "-------------------------------------------\n",
      "+-----------------+-----------+\n",
      "|   account_region|credit_flow|\n",
      "+-----------------+-----------+\n",
      "|  African Free TZ|  29,888.71|\n",
      "|    East Asian TZ|  96,570.39|\n",
      "|       Eurasia TZ|  82,446.57|\n",
      "|North American TZ| 174,699.64|\n",
      "|   South Asian TZ|  11,700.95|\n",
      "+-----------------+-----------+\n",
      "\n"
     ]
    },
    {
     "name": "stderr",
     "output_type": "stream",
     "text": [
      "                                                                                \r"
     ]
    },
    {
     "name": "stdout",
     "output_type": "stream",
     "text": [
      "-------------------------------------------\n",
      "Batch: 51\n",
      "-------------------------------------------\n",
      "+-----------------+-----------+\n",
      "|   account_region|credit_flow|\n",
      "+-----------------+-----------+\n",
      "|  African Free TZ|  29,888.71|\n",
      "|    East Asian TZ| 106,143.65|\n",
      "|       Eurasia TZ|  90,766.47|\n",
      "|North American TZ| 174,699.64|\n",
      "|   South Asian TZ|  17,647.73|\n",
      "+-----------------+-----------+\n",
      "\n"
     ]
    },
    {
     "name": "stderr",
     "output_type": "stream",
     "text": [
      "                                                                                \r"
     ]
    },
    {
     "name": "stdout",
     "output_type": "stream",
     "text": [
      "-------------------------------------------\n",
      "Batch: 52\n",
      "-------------------------------------------\n",
      "+-----------------+-----------+\n",
      "|   account_region|credit_flow|\n",
      "+-----------------+-----------+\n",
      "|  African Free TZ|  29,888.71|\n",
      "|    East Asian TZ| 106,143.65|\n",
      "|       Eurasia TZ|  92,521.34|\n",
      "|North American TZ| 174,699.64|\n",
      "|   South Asian TZ|  17,647.73|\n",
      "+-----------------+-----------+\n",
      "\n"
     ]
    },
    {
     "name": "stderr",
     "output_type": "stream",
     "text": [
      "                                                                                \r"
     ]
    },
    {
     "name": "stdout",
     "output_type": "stream",
     "text": [
      "-------------------------------------------\n",
      "Batch: 53\n",
      "-------------------------------------------\n",
      "+-----------------+-----------+\n",
      "|   account_region|credit_flow|\n",
      "+-----------------+-----------+\n",
      "|  African Free TZ|  38,757.33|\n",
      "|    East Asian TZ| 106,143.65|\n",
      "|       Eurasia TZ|  92,521.34|\n",
      "|North American TZ| 174,699.64|\n",
      "|   South Asian TZ|  17,647.73|\n",
      "+-----------------+-----------+\n",
      "\n"
     ]
    },
    {
     "name": "stderr",
     "output_type": "stream",
     "text": [
      "                                                                                \r"
     ]
    },
    {
     "name": "stdout",
     "output_type": "stream",
     "text": [
      "-------------------------------------------\n",
      "Batch: 54\n",
      "-------------------------------------------\n",
      "+-----------------+-----------+\n",
      "|   account_region|credit_flow|\n",
      "+-----------------+-----------+\n",
      "|  African Free TZ|  38,757.33|\n",
      "|    East Asian TZ| 115,707.44|\n",
      "|       Eurasia TZ|  92,521.34|\n",
      "|North American TZ| 174,699.64|\n",
      "|   South Asian TZ|  17,647.73|\n",
      "+-----------------+-----------+\n",
      "\n"
     ]
    },
    {
     "name": "stderr",
     "output_type": "stream",
     "text": [
      "                                                                                \r"
     ]
    },
    {
     "name": "stdout",
     "output_type": "stream",
     "text": [
      "-------------------------------------------\n",
      "Batch: 55\n",
      "-------------------------------------------\n",
      "+-----------------+-----------+\n",
      "|   account_region|credit_flow|\n",
      "+-----------------+-----------+\n",
      "|  African Free TZ|  45,840.82|\n",
      "|    East Asian TZ| 115,707.44|\n",
      "|       Eurasia TZ|  92,521.34|\n",
      "|North American TZ| 174,699.64|\n",
      "|   South Asian TZ|  17,647.73|\n",
      "+-----------------+-----------+\n",
      "\n"
     ]
    },
    {
     "name": "stderr",
     "output_type": "stream",
     "text": [
      "                                                                                \r"
     ]
    },
    {
     "name": "stdout",
     "output_type": "stream",
     "text": [
      "-------------------------------------------\n",
      "Batch: 56\n",
      "-------------------------------------------\n",
      "+-----------------+-----------+\n",
      "|   account_region|credit_flow|\n",
      "+-----------------+-----------+\n",
      "|  African Free TZ|  45,840.82|\n",
      "|    East Asian TZ| 115,707.44|\n",
      "|       Eurasia TZ|  92,521.34|\n",
      "|North American TZ| 174,699.64|\n",
      "|   South Asian TZ|  19,866.22|\n",
      "+-----------------+-----------+\n",
      "\n"
     ]
    },
    {
     "name": "stderr",
     "output_type": "stream",
     "text": [
      "                                                                                \r"
     ]
    },
    {
     "name": "stdout",
     "output_type": "stream",
     "text": [
      "-------------------------------------------\n",
      "Batch: 57\n",
      "-------------------------------------------\n",
      "+-----------------+-----------+\n",
      "|   account_region|credit_flow|\n",
      "+-----------------+-----------+\n",
      "|  African Free TZ|  45,840.82|\n",
      "|    East Asian TZ| 115,707.44|\n",
      "|       Eurasia TZ|  92,521.34|\n",
      "|North American TZ| 179,759.41|\n",
      "|   South Asian TZ|  19,866.22|\n",
      "+-----------------+-----------+\n",
      "\n"
     ]
    },
    {
     "name": "stderr",
     "output_type": "stream",
     "text": [
      "                                                                                \r"
     ]
    },
    {
     "name": "stdout",
     "output_type": "stream",
     "text": [
      "-------------------------------------------\n",
      "Batch: 58\n",
      "-------------------------------------------\n",
      "+-----------------+-----------+\n",
      "|   account_region|credit_flow|\n",
      "+-----------------+-----------+\n",
      "|  African Free TZ|  45,840.82|\n",
      "|    East Asian TZ| 121,947.61|\n",
      "|       Eurasia TZ|  92,521.34|\n",
      "|North American TZ| 179,759.41|\n",
      "|   South Asian TZ|  19,866.22|\n",
      "+-----------------+-----------+\n",
      "\n"
     ]
    },
    {
     "name": "stderr",
     "output_type": "stream",
     "text": [
      "                                                                                \r"
     ]
    },
    {
     "name": "stdout",
     "output_type": "stream",
     "text": [
      "-------------------------------------------\n",
      "Batch: 59\n",
      "-------------------------------------------\n",
      "+-----------------+-----------+\n",
      "|   account_region|credit_flow|\n",
      "+-----------------+-----------+\n",
      "|  African Free TZ|  45,840.82|\n",
      "|    East Asian TZ| 122,655.49|\n",
      "|       Eurasia TZ|  92,521.34|\n",
      "|North American TZ| 179,759.41|\n",
      "|   South Asian TZ|  19,866.22|\n",
      "+-----------------+-----------+\n",
      "\n"
     ]
    },
    {
     "name": "stderr",
     "output_type": "stream",
     "text": [
      "                                                                                \r"
     ]
    },
    {
     "name": "stdout",
     "output_type": "stream",
     "text": [
      "-------------------------------------------\n",
      "Batch: 60\n",
      "-------------------------------------------\n",
      "+-----------------+-----------+\n",
      "|   account_region|credit_flow|\n",
      "+-----------------+-----------+\n",
      "|  African Free TZ|  45,840.82|\n",
      "|    East Asian TZ| 122,655.49|\n",
      "|       Eurasia TZ|  92,521.34|\n",
      "|North American TZ| 184,532.34|\n",
      "|   South Asian TZ|  19,866.22|\n",
      "+-----------------+-----------+\n",
      "\n"
     ]
    },
    {
     "name": "stderr",
     "output_type": "stream",
     "text": [
      "                                                                                \r"
     ]
    },
    {
     "name": "stdout",
     "output_type": "stream",
     "text": [
      "-------------------------------------------\n",
      "Batch: 61\n",
      "-------------------------------------------\n",
      "+-----------------+-----------+\n",
      "|   account_region|credit_flow|\n",
      "+-----------------+-----------+\n",
      "|  African Free TZ|  45,840.82|\n",
      "|    East Asian TZ| 128,789.17|\n",
      "|       Eurasia TZ|  92,521.34|\n",
      "|North American TZ| 184,532.34|\n",
      "|   South Asian TZ|  29,795.65|\n",
      "+-----------------+-----------+\n",
      "\n"
     ]
    },
    {
     "name": "stderr",
     "output_type": "stream",
     "text": [
      "                                                                                \r"
     ]
    },
    {
     "name": "stdout",
     "output_type": "stream",
     "text": [
      "-------------------------------------------\n",
      "Batch: 62\n",
      "-------------------------------------------\n",
      "+-----------------+-----------+\n",
      "|   account_region|credit_flow|\n",
      "+-----------------+-----------+\n",
      "|  African Free TZ|  45,840.82|\n",
      "|    East Asian TZ| 137,486.22|\n",
      "|       Eurasia TZ|  92,521.34|\n",
      "|North American TZ| 184,532.34|\n",
      "|   South Asian TZ|  29,795.65|\n",
      "+-----------------+-----------+\n",
      "\n"
     ]
    },
    {
     "name": "stderr",
     "output_type": "stream",
     "text": [
      "                                                                                \r"
     ]
    },
    {
     "name": "stdout",
     "output_type": "stream",
     "text": [
      "-------------------------------------------\n",
      "Batch: 63\n",
      "-------------------------------------------\n",
      "+-----------------+-----------+\n",
      "|   account_region|credit_flow|\n",
      "+-----------------+-----------+\n",
      "|  African Free TZ|  45,840.82|\n",
      "|    East Asian TZ| 139,122.10|\n",
      "|       Eurasia TZ|  92,521.34|\n",
      "|North American TZ| 184,532.34|\n",
      "|   South Asian TZ|  29,795.65|\n",
      "+-----------------+-----------+\n",
      "\n"
     ]
    },
    {
     "name": "stderr",
     "output_type": "stream",
     "text": [
      "                                                                                \r"
     ]
    },
    {
     "name": "stdout",
     "output_type": "stream",
     "text": [
      "-------------------------------------------\n",
      "Batch: 64\n",
      "-------------------------------------------\n",
      "+-----------------+-----------+\n",
      "|   account_region|credit_flow|\n",
      "+-----------------+-----------+\n",
      "|  African Free TZ|  45,840.82|\n",
      "|    East Asian TZ| 139,122.10|\n",
      "|       Eurasia TZ|  92,521.34|\n",
      "|North American TZ| 192,110.09|\n",
      "|   South Asian TZ|  29,795.65|\n",
      "+-----------------+-----------+\n",
      "\n"
     ]
    },
    {
     "name": "stderr",
     "output_type": "stream",
     "text": [
      "                                                                                \r"
     ]
    },
    {
     "name": "stdout",
     "output_type": "stream",
     "text": [
      "-------------------------------------------\n",
      "Batch: 65\n",
      "-------------------------------------------\n",
      "+-----------------+-----------+\n",
      "|   account_region|credit_flow|\n",
      "+-----------------+-----------+\n",
      "|  African Free TZ|  45,840.82|\n",
      "|    East Asian TZ| 139,122.10|\n",
      "|       Eurasia TZ|  92,521.34|\n",
      "|North American TZ| 192,234.92|\n",
      "|   South Asian TZ|  29,795.65|\n",
      "+-----------------+-----------+\n",
      "\n"
     ]
    },
    {
     "name": "stderr",
     "output_type": "stream",
     "text": [
      "                                                                                \r"
     ]
    },
    {
     "name": "stdout",
     "output_type": "stream",
     "text": [
      "-------------------------------------------\n",
      "Batch: 66\n",
      "-------------------------------------------\n",
      "+-----------------+-----------+\n",
      "|   account_region|credit_flow|\n",
      "+-----------------+-----------+\n",
      "|  African Free TZ|  45,840.82|\n",
      "|    East Asian TZ| 144,461.18|\n",
      "|       Eurasia TZ| 101,748.61|\n",
      "|North American TZ| 192,234.92|\n",
      "|   South Asian TZ|  29,795.65|\n",
      "+-----------------+-----------+\n",
      "\n"
     ]
    },
    {
     "name": "stderr",
     "output_type": "stream",
     "text": [
      "                                                                                \r"
     ]
    },
    {
     "name": "stdout",
     "output_type": "stream",
     "text": [
      "-------------------------------------------\n",
      "Batch: 67\n",
      "-------------------------------------------\n",
      "+-----------------+-----------+\n",
      "|   account_region|credit_flow|\n",
      "+-----------------+-----------+\n",
      "|  African Free TZ|  45,840.82|\n",
      "|    East Asian TZ| 144,461.18|\n",
      "|       Eurasia TZ| 101,748.61|\n",
      "|North American TZ| 197,725.38|\n",
      "|   South Asian TZ|  29,795.65|\n",
      "+-----------------+-----------+\n",
      "\n"
     ]
    },
    {
     "name": "stderr",
     "output_type": "stream",
     "text": [
      "                                                                                \r"
     ]
    },
    {
     "name": "stdout",
     "output_type": "stream",
     "text": [
      "-------------------------------------------\n",
      "Batch: 68\n",
      "-------------------------------------------\n",
      "+-----------------+-----------+\n",
      "|   account_region|credit_flow|\n",
      "+-----------------+-----------+\n",
      "|  African Free TZ|  45,840.82|\n",
      "|    East Asian TZ| 144,461.18|\n",
      "|       Eurasia TZ| 101,748.61|\n",
      "|North American TZ| 200,028.14|\n",
      "|   South Asian TZ|  29,795.65|\n",
      "+-----------------+-----------+\n",
      "\n"
     ]
    },
    {
     "name": "stderr",
     "output_type": "stream",
     "text": [
      "                                                                                \r"
     ]
    },
    {
     "name": "stdout",
     "output_type": "stream",
     "text": [
      "-------------------------------------------\n",
      "Batch: 69\n",
      "-------------------------------------------\n",
      "+-----------------+-----------+\n",
      "|   account_region|credit_flow|\n",
      "+-----------------+-----------+\n",
      "|  African Free TZ|  45,840.82|\n",
      "|    East Asian TZ| 146,380.91|\n",
      "|       Eurasia TZ| 101,748.61|\n",
      "|North American TZ| 200,028.14|\n",
      "|   South Asian TZ|  29,795.65|\n",
      "+-----------------+-----------+\n",
      "\n"
     ]
    },
    {
     "name": "stderr",
     "output_type": "stream",
     "text": [
      "                                                                                \r"
     ]
    },
    {
     "name": "stdout",
     "output_type": "stream",
     "text": [
      "-------------------------------------------\n",
      "Batch: 70\n",
      "-------------------------------------------\n",
      "+-----------------+-----------+\n",
      "|   account_region|credit_flow|\n",
      "+-----------------+-----------+\n",
      "|  African Free TZ|  45,840.82|\n",
      "|    East Asian TZ| 155,205.91|\n",
      "|       Eurasia TZ| 101,748.61|\n",
      "|North American TZ| 207,793.78|\n",
      "|   South Asian TZ|  29,795.65|\n",
      "+-----------------+-----------+\n",
      "\n"
     ]
    },
    {
     "name": "stderr",
     "output_type": "stream",
     "text": [
      "                                                                                \r"
     ]
    },
    {
     "name": "stdout",
     "output_type": "stream",
     "text": [
      "-------------------------------------------\n",
      "Batch: 71\n",
      "-------------------------------------------\n",
      "+-----------------+-----------+\n",
      "|   account_region|credit_flow|\n",
      "+-----------------+-----------+\n",
      "|  African Free TZ|  45,840.82|\n",
      "|    East Asian TZ| 155,205.91|\n",
      "|       Eurasia TZ| 101,748.61|\n",
      "|North American TZ| 207,793.78|\n",
      "|   South Asian TZ|  35,271.93|\n",
      "+-----------------+-----------+\n",
      "\n"
     ]
    },
    {
     "name": "stderr",
     "output_type": "stream",
     "text": [
      "                                                                                \r"
     ]
    },
    {
     "name": "stdout",
     "output_type": "stream",
     "text": [
      "-------------------------------------------\n",
      "Batch: 72\n",
      "-------------------------------------------\n",
      "+-----------------+-----------+\n",
      "|   account_region|credit_flow|\n",
      "+-----------------+-----------+\n",
      "|  African Free TZ|  49,372.24|\n",
      "|    East Asian TZ| 155,205.91|\n",
      "|       Eurasia TZ| 101,748.61|\n",
      "|North American TZ| 215,509.64|\n",
      "|   South Asian TZ|  35,271.93|\n",
      "+-----------------+-----------+\n",
      "\n"
     ]
    },
    {
     "name": "stderr",
     "output_type": "stream",
     "text": [
      "                                                                                \r"
     ]
    },
    {
     "name": "stdout",
     "output_type": "stream",
     "text": [
      "-------------------------------------------\n",
      "Batch: 73\n",
      "-------------------------------------------\n",
      "+-----------------+-----------+\n",
      "|   account_region|credit_flow|\n",
      "+-----------------+-----------+\n",
      "|  African Free TZ|  57,251.76|\n",
      "|    East Asian TZ| 155,205.91|\n",
      "|       Eurasia TZ| 101,748.61|\n",
      "|North American TZ| 215,509.64|\n",
      "|   South Asian TZ|  35,271.93|\n",
      "+-----------------+-----------+\n",
      "\n"
     ]
    },
    {
     "name": "stderr",
     "output_type": "stream",
     "text": [
      "                                                                                \r"
     ]
    },
    {
     "name": "stdout",
     "output_type": "stream",
     "text": [
      "-------------------------------------------\n",
      "Batch: 74\n",
      "-------------------------------------------\n",
      "+-----------------+-----------+\n",
      "|   account_region|credit_flow|\n",
      "+-----------------+-----------+\n",
      "|  African Free TZ|  65,104.20|\n",
      "|    East Asian TZ| 155,205.91|\n",
      "|       Eurasia TZ| 101,748.61|\n",
      "|North American TZ| 223,060.93|\n",
      "|   South Asian TZ|  35,271.93|\n",
      "+-----------------+-----------+\n",
      "\n"
     ]
    },
    {
     "name": "stderr",
     "output_type": "stream",
     "text": [
      "                                                                                \r"
     ]
    },
    {
     "name": "stdout",
     "output_type": "stream",
     "text": [
      "-------------------------------------------\n",
      "Batch: 75\n",
      "-------------------------------------------\n",
      "+-----------------+-----------+\n",
      "|   account_region|credit_flow|\n",
      "+-----------------+-----------+\n",
      "|  African Free TZ|  65,104.20|\n",
      "|    East Asian TZ| 158,922.28|\n",
      "|       Eurasia TZ| 101,748.61|\n",
      "|North American TZ| 223,060.93|\n",
      "|   South Asian TZ|  35,271.93|\n",
      "+-----------------+-----------+\n",
      "\n"
     ]
    },
    {
     "name": "stderr",
     "output_type": "stream",
     "text": [
      "                                                                                \r"
     ]
    },
    {
     "name": "stdout",
     "output_type": "stream",
     "text": [
      "-------------------------------------------\n",
      "Batch: 76\n",
      "-------------------------------------------\n",
      "+-----------------+-----------+\n",
      "|   account_region|credit_flow|\n",
      "+-----------------+-----------+\n",
      "|  African Free TZ|  65,104.20|\n",
      "|    East Asian TZ| 164,417.71|\n",
      "|       Eurasia TZ| 101,748.61|\n",
      "|North American TZ| 223,340.51|\n",
      "|   South Asian TZ|  35,271.93|\n",
      "+-----------------+-----------+\n",
      "\n"
     ]
    },
    {
     "name": "stderr",
     "output_type": "stream",
     "text": [
      "                                                                                \r"
     ]
    },
    {
     "name": "stdout",
     "output_type": "stream",
     "text": [
      "-------------------------------------------\n",
      "Batch: 77\n",
      "-------------------------------------------\n",
      "+-----------------+-----------+\n",
      "|   account_region|credit_flow|\n",
      "+-----------------+-----------+\n",
      "|  African Free TZ|  65,104.20|\n",
      "|    East Asian TZ| 173,619.13|\n",
      "|       Eurasia TZ| 101,748.61|\n",
      "|North American TZ| 223,340.51|\n",
      "|   South Asian TZ|  35,271.93|\n",
      "+-----------------+-----------+\n",
      "\n"
     ]
    },
    {
     "name": "stderr",
     "output_type": "stream",
     "text": [
      "                                                                                \r"
     ]
    },
    {
     "name": "stdout",
     "output_type": "stream",
     "text": [
      "-------------------------------------------\n",
      "Batch: 78\n",
      "-------------------------------------------\n",
      "+-----------------+-----------+\n",
      "|   account_region|credit_flow|\n",
      "+-----------------+-----------+\n",
      "|  African Free TZ|  65,104.20|\n",
      "|    East Asian TZ| 173,619.13|\n",
      "|       Eurasia TZ| 101,748.61|\n",
      "|North American TZ| 231,097.12|\n",
      "|   South Asian TZ|  35,271.93|\n",
      "+-----------------+-----------+\n",
      "\n"
     ]
    },
    {
     "name": "stderr",
     "output_type": "stream",
     "text": [
      "                                                                                \r"
     ]
    },
    {
     "name": "stdout",
     "output_type": "stream",
     "text": [
      "-------------------------------------------\n",
      "Batch: 79\n",
      "-------------------------------------------\n",
      "+-----------------+-----------+\n",
      "|   account_region|credit_flow|\n",
      "+-----------------+-----------+\n",
      "|  African Free TZ|  65,104.20|\n",
      "|    East Asian TZ| 173,619.13|\n",
      "|       Eurasia TZ| 101,748.61|\n",
      "|North American TZ| 238,404.35|\n",
      "|   South Asian TZ|  35,271.93|\n",
      "+-----------------+-----------+\n",
      "\n"
     ]
    },
    {
     "name": "stderr",
     "output_type": "stream",
     "text": [
      "                                                                                \r"
     ]
    },
    {
     "name": "stdout",
     "output_type": "stream",
     "text": [
      "-------------------------------------------\n",
      "Batch: 80\n",
      "-------------------------------------------\n",
      "+-----------------+-----------+\n",
      "|   account_region|credit_flow|\n",
      "+-----------------+-----------+\n",
      "|  African Free TZ|  65,104.20|\n",
      "|    East Asian TZ| 182,651.52|\n",
      "|       Eurasia TZ| 101,748.61|\n",
      "|North American TZ| 238,404.35|\n",
      "|   South Asian TZ|  35,271.93|\n",
      "+-----------------+-----------+\n",
      "\n"
     ]
    },
    {
     "name": "stderr",
     "output_type": "stream",
     "text": [
      "                                                                                \r"
     ]
    },
    {
     "name": "stdout",
     "output_type": "stream",
     "text": [
      "-------------------------------------------\n",
      "Batch: 81\n",
      "-------------------------------------------\n",
      "+-----------------+-----------+\n",
      "|   account_region|credit_flow|\n",
      "+-----------------+-----------+\n",
      "|  African Free TZ|  65,104.20|\n",
      "|    East Asian TZ| 182,651.52|\n",
      "|       Eurasia TZ| 101,748.61|\n",
      "|North American TZ| 254,004.70|\n",
      "|   South Asian TZ|  40,947.98|\n",
      "+-----------------+-----------+\n",
      "\n"
     ]
    },
    {
     "name": "stderr",
     "output_type": "stream",
     "text": [
      "                                                                                \r"
     ]
    },
    {
     "name": "stdout",
     "output_type": "stream",
     "text": [
      "-------------------------------------------\n",
      "Batch: 82\n",
      "-------------------------------------------\n",
      "+-----------------+-----------+\n",
      "|   account_region|credit_flow|\n",
      "+-----------------+-----------+\n",
      "|  African Free TZ|  65,104.20|\n",
      "|    East Asian TZ| 184,394.41|\n",
      "|       Eurasia TZ| 101,748.61|\n",
      "|North American TZ| 254,004.70|\n",
      "|   South Asian TZ|  44,254.50|\n",
      "+-----------------+-----------+\n",
      "\n"
     ]
    },
    {
     "name": "stderr",
     "output_type": "stream",
     "text": [
      "                                                                                \r"
     ]
    },
    {
     "name": "stdout",
     "output_type": "stream",
     "text": [
      "-------------------------------------------\n",
      "Batch: 83\n",
      "-------------------------------------------\n",
      "+-----------------+-----------+\n",
      "|   account_region|credit_flow|\n",
      "+-----------------+-----------+\n",
      "|  African Free TZ|  65,104.20|\n",
      "|    East Asian TZ| 184,394.41|\n",
      "|       Eurasia TZ| 101,748.61|\n",
      "|North American TZ| 254,004.70|\n",
      "|   South Asian TZ|  49,366.37|\n",
      "+-----------------+-----------+\n",
      "\n"
     ]
    },
    {
     "name": "stderr",
     "output_type": "stream",
     "text": [
      "                                                                                \r"
     ]
    },
    {
     "name": "stdout",
     "output_type": "stream",
     "text": [
      "-------------------------------------------\n",
      "Batch: 84\n",
      "-------------------------------------------\n",
      "+-----------------+-----------+\n",
      "|   account_region|credit_flow|\n",
      "+-----------------+-----------+\n",
      "|  African Free TZ|  65,104.20|\n",
      "|    East Asian TZ| 184,394.41|\n",
      "|       Eurasia TZ| 101,780.33|\n",
      "|North American TZ| 254,004.70|\n",
      "|   South Asian TZ|  49,366.37|\n",
      "+-----------------+-----------+\n",
      "\n"
     ]
    },
    {
     "name": "stderr",
     "output_type": "stream",
     "text": [
      "                                                                                \r"
     ]
    },
    {
     "name": "stdout",
     "output_type": "stream",
     "text": [
      "-------------------------------------------\n",
      "Batch: 85\n",
      "-------------------------------------------\n",
      "+-----------------+-----------+\n",
      "|   account_region|credit_flow|\n",
      "+-----------------+-----------+\n",
      "|  African Free TZ|  65,104.20|\n",
      "|    East Asian TZ| 184,394.41|\n",
      "|       Eurasia TZ| 101,780.33|\n",
      "|North American TZ| 254,004.70|\n",
      "|   South Asian TZ|  50,829.43|\n",
      "+-----------------+-----------+\n",
      "\n"
     ]
    },
    {
     "name": "stderr",
     "output_type": "stream",
     "text": [
      "                                                                                \r"
     ]
    },
    {
     "name": "stdout",
     "output_type": "stream",
     "text": [
      "-------------------------------------------\n",
      "Batch: 86\n",
      "-------------------------------------------\n",
      "+-----------------+-----------+\n",
      "|   account_region|credit_flow|\n",
      "+-----------------+-----------+\n",
      "|  African Free TZ|  65,104.20|\n",
      "|    East Asian TZ| 184,394.41|\n",
      "|       Eurasia TZ| 101,780.33|\n",
      "|North American TZ| 255,700.84|\n",
      "|   South Asian TZ|  50,829.43|\n",
      "+-----------------+-----------+\n",
      "\n"
     ]
    },
    {
     "name": "stderr",
     "output_type": "stream",
     "text": [
      "                                                                                \r"
     ]
    },
    {
     "name": "stdout",
     "output_type": "stream",
     "text": [
      "-------------------------------------------\n",
      "Batch: 87\n",
      "-------------------------------------------\n",
      "+-----------------+-----------+\n",
      "|   account_region|credit_flow|\n",
      "+-----------------+-----------+\n",
      "|  African Free TZ|  69,742.66|\n",
      "|    East Asian TZ| 184,394.41|\n",
      "|       Eurasia TZ| 101,780.33|\n",
      "|North American TZ| 255,700.84|\n",
      "|   South Asian TZ|  50,829.43|\n",
      "+-----------------+-----------+\n",
      "\n"
     ]
    },
    {
     "name": "stderr",
     "output_type": "stream",
     "text": [
      "                                                                                \r"
     ]
    },
    {
     "name": "stdout",
     "output_type": "stream",
     "text": [
      "-------------------------------------------\n",
      "Batch: 88\n",
      "-------------------------------------------\n",
      "+-----------------+-----------+\n",
      "|   account_region|credit_flow|\n",
      "+-----------------+-----------+\n",
      "|  African Free TZ|  76,894.45|\n",
      "|    East Asian TZ| 184,394.41|\n",
      "|       Eurasia TZ| 101,780.33|\n",
      "|North American TZ| 255,700.84|\n",
      "|   South Asian TZ|  50,829.43|\n",
      "+-----------------+-----------+\n",
      "\n"
     ]
    },
    {
     "name": "stderr",
     "output_type": "stream",
     "text": [
      "                                                                                \r"
     ]
    },
    {
     "name": "stdout",
     "output_type": "stream",
     "text": [
      "-------------------------------------------\n",
      "Batch: 89\n",
      "-------------------------------------------\n",
      "+-----------------+-----------+\n",
      "|   account_region|credit_flow|\n",
      "+-----------------+-----------+\n",
      "|  African Free TZ|  76,894.45|\n",
      "|    East Asian TZ| 188,052.79|\n",
      "|       Eurasia TZ| 101,780.33|\n",
      "|North American TZ| 255,700.84|\n",
      "|   South Asian TZ|  50,829.43|\n",
      "+-----------------+-----------+\n",
      "\n"
     ]
    },
    {
     "name": "stderr",
     "output_type": "stream",
     "text": [
      "                                                                                \r"
     ]
    },
    {
     "name": "stdout",
     "output_type": "stream",
     "text": [
      "-------------------------------------------\n",
      "Batch: 90\n",
      "-------------------------------------------\n",
      "+-----------------+-----------+\n",
      "|   account_region|credit_flow|\n",
      "+-----------------+-----------+\n",
      "|  African Free TZ|  76,894.45|\n",
      "|    East Asian TZ| 188,052.79|\n",
      "|       Eurasia TZ| 101,780.33|\n",
      "|North American TZ| 259,751.16|\n",
      "|   South Asian TZ|  50,829.43|\n",
      "+-----------------+-----------+\n",
      "\n"
     ]
    },
    {
     "name": "stderr",
     "output_type": "stream",
     "text": [
      "                                                                                \r"
     ]
    },
    {
     "name": "stdout",
     "output_type": "stream",
     "text": [
      "-------------------------------------------\n",
      "Batch: 91\n",
      "-------------------------------------------\n",
      "+-----------------+-----------+\n",
      "|   account_region|credit_flow|\n",
      "+-----------------+-----------+\n",
      "|  African Free TZ|  76,894.45|\n",
      "|    East Asian TZ| 188,052.79|\n",
      "|       Eurasia TZ| 101,780.33|\n",
      "|North American TZ| 265,425.43|\n",
      "|   South Asian TZ|  50,829.43|\n",
      "+-----------------+-----------+\n",
      "\n"
     ]
    },
    {
     "name": "stderr",
     "output_type": "stream",
     "text": [
      "                                                                                \r"
     ]
    },
    {
     "name": "stdout",
     "output_type": "stream",
     "text": [
      "-------------------------------------------\n",
      "Batch: 92\n",
      "-------------------------------------------\n",
      "+-----------------+-----------+\n",
      "|   account_region|credit_flow|\n",
      "+-----------------+-----------+\n",
      "|  African Free TZ|  76,894.45|\n",
      "|    East Asian TZ| 192,106.71|\n",
      "|       Eurasia TZ| 101,780.33|\n",
      "|North American TZ| 265,425.43|\n",
      "|   South Asian TZ|  50,829.43|\n",
      "+-----------------+-----------+\n",
      "\n"
     ]
    },
    {
     "name": "stderr",
     "output_type": "stream",
     "text": [
      "                                                                                \r"
     ]
    },
    {
     "name": "stdout",
     "output_type": "stream",
     "text": [
      "-------------------------------------------\n",
      "Batch: 93\n",
      "-------------------------------------------\n",
      "+-----------------+-----------+\n",
      "|   account_region|credit_flow|\n",
      "+-----------------+-----------+\n",
      "|  African Free TZ|  83,256.90|\n",
      "|    East Asian TZ| 192,106.71|\n",
      "|       Eurasia TZ| 107,856.43|\n",
      "|North American TZ| 265,425.43|\n",
      "|   South Asian TZ|  50,829.43|\n",
      "+-----------------+-----------+\n",
      "\n"
     ]
    },
    {
     "name": "stderr",
     "output_type": "stream",
     "text": [
      "                                                                                \r"
     ]
    },
    {
     "name": "stdout",
     "output_type": "stream",
     "text": [
      "-------------------------------------------\n",
      "Batch: 94\n",
      "-------------------------------------------\n",
      "+-----------------+-----------+\n",
      "|   account_region|credit_flow|\n",
      "+-----------------+-----------+\n",
      "|  African Free TZ|  87,963.13|\n",
      "|    East Asian TZ| 192,106.71|\n",
      "|       Eurasia TZ| 107,856.43|\n",
      "|North American TZ| 265,425.43|\n",
      "|   South Asian TZ|  50,829.43|\n",
      "+-----------------+-----------+\n",
      "\n"
     ]
    },
    {
     "name": "stderr",
     "output_type": "stream",
     "text": [
      "                                                                                \r"
     ]
    },
    {
     "name": "stdout",
     "output_type": "stream",
     "text": [
      "-------------------------------------------\n",
      "Batch: 95\n",
      "-------------------------------------------\n",
      "+-----------------+-----------+\n",
      "|   account_region|credit_flow|\n",
      "+-----------------+-----------+\n",
      "|  African Free TZ|  87,963.13|\n",
      "|    East Asian TZ| 192,106.71|\n",
      "|       Eurasia TZ| 111,086.49|\n",
      "|North American TZ| 272,932.79|\n",
      "|   South Asian TZ|  50,829.43|\n",
      "+-----------------+-----------+\n",
      "\n"
     ]
    },
    {
     "name": "stderr",
     "output_type": "stream",
     "text": [
      "                                                                                \r"
     ]
    },
    {
     "name": "stdout",
     "output_type": "stream",
     "text": [
      "-------------------------------------------\n",
      "Batch: 96\n",
      "-------------------------------------------\n",
      "+-----------------+-----------+\n",
      "|   account_region|credit_flow|\n",
      "+-----------------+-----------+\n",
      "|  African Free TZ|  87,963.13|\n",
      "|    East Asian TZ| 193,041.95|\n",
      "|       Eurasia TZ| 111,086.49|\n",
      "|North American TZ| 275,938.01|\n",
      "|   South Asian TZ|  50,829.43|\n",
      "+-----------------+-----------+\n",
      "\n"
     ]
    },
    {
     "name": "stderr",
     "output_type": "stream",
     "text": [
      "                                                                                \r"
     ]
    },
    {
     "name": "stdout",
     "output_type": "stream",
     "text": [
      "-------------------------------------------\n",
      "Batch: 97\n",
      "-------------------------------------------\n",
      "+-----------------+-----------+\n",
      "|   account_region|credit_flow|\n",
      "+-----------------+-----------+\n",
      "|  African Free TZ|  87,963.13|\n",
      "|    East Asian TZ| 193,041.95|\n",
      "|       Eurasia TZ| 111,086.49|\n",
      "|North American TZ| 293,405.59|\n",
      "|   South Asian TZ|  50,829.43|\n",
      "+-----------------+-----------+\n",
      "\n"
     ]
    },
    {
     "name": "stderr",
     "output_type": "stream",
     "text": [
      "                                                                                \r"
     ]
    },
    {
     "name": "stdout",
     "output_type": "stream",
     "text": [
      "-------------------------------------------\n",
      "Batch: 98\n",
      "-------------------------------------------\n",
      "+-----------------+-----------+\n",
      "|   account_region|credit_flow|\n",
      "+-----------------+-----------+\n",
      "|  African Free TZ|  87,963.13|\n",
      "|    East Asian TZ| 204,412.55|\n",
      "|       Eurasia TZ| 111,086.49|\n",
      "|North American TZ| 295,269.42|\n",
      "|   South Asian TZ|  50,829.43|\n",
      "+-----------------+-----------+\n",
      "\n"
     ]
    },
    {
     "name": "stderr",
     "output_type": "stream",
     "text": [
      "                                                                                \r"
     ]
    },
    {
     "name": "stdout",
     "output_type": "stream",
     "text": [
      "-------------------------------------------\n",
      "Batch: 99\n",
      "-------------------------------------------\n",
      "+-----------------+-----------+\n",
      "|   account_region|credit_flow|\n",
      "+-----------------+-----------+\n",
      "|  African Free TZ|  87,963.13|\n",
      "|    East Asian TZ| 204,455.92|\n",
      "|       Eurasia TZ| 111,086.49|\n",
      "|North American TZ| 295,269.42|\n",
      "|   South Asian TZ|  50,829.43|\n",
      "+-----------------+-----------+\n",
      "\n"
     ]
    },
    {
     "name": "stderr",
     "output_type": "stream",
     "text": [
      "                                                                                \r"
     ]
    },
    {
     "name": "stdout",
     "output_type": "stream",
     "text": [
      "-------------------------------------------\n",
      "Batch: 100\n",
      "-------------------------------------------\n",
      "+-----------------+-----------+\n",
      "|   account_region|credit_flow|\n",
      "+-----------------+-----------+\n",
      "|  African Free TZ|  87,963.13|\n",
      "|    East Asian TZ| 204,455.92|\n",
      "|       Eurasia TZ| 111,086.49|\n",
      "|North American TZ| 300,670.99|\n",
      "|   South Asian TZ|  50,829.43|\n",
      "+-----------------+-----------+\n",
      "\n"
     ]
    },
    {
     "name": "stderr",
     "output_type": "stream",
     "text": [
      "                                                                                \r"
     ]
    },
    {
     "name": "stdout",
     "output_type": "stream",
     "text": [
      "-------------------------------------------\n",
      "Batch: 101\n",
      "-------------------------------------------\n",
      "+-----------------+-----------+\n",
      "|   account_region|credit_flow|\n",
      "+-----------------+-----------+\n",
      "|  African Free TZ|  87,963.13|\n",
      "|    East Asian TZ| 207,286.89|\n",
      "|       Eurasia TZ| 111,086.49|\n",
      "|North American TZ| 300,670.99|\n",
      "|   South Asian TZ|  50,829.43|\n",
      "+-----------------+-----------+\n",
      "\n"
     ]
    },
    {
     "name": "stderr",
     "output_type": "stream",
     "text": [
      "                                                                                \r"
     ]
    },
    {
     "name": "stdout",
     "output_type": "stream",
     "text": [
      "-------------------------------------------\n",
      "Batch: 102\n",
      "-------------------------------------------\n",
      "+-----------------+-----------+\n",
      "|   account_region|credit_flow|\n",
      "+-----------------+-----------+\n",
      "|  African Free TZ|  89,170.07|\n",
      "|    East Asian TZ| 208,437.33|\n",
      "|       Eurasia TZ| 111,086.49|\n",
      "|North American TZ| 300,670.99|\n",
      "|   South Asian TZ|  50,829.43|\n",
      "+-----------------+-----------+\n",
      "\n"
     ]
    },
    {
     "name": "stderr",
     "output_type": "stream",
     "text": [
      "                                                                                \r"
     ]
    },
    {
     "name": "stdout",
     "output_type": "stream",
     "text": [
      "-------------------------------------------\n",
      "Batch: 103\n",
      "-------------------------------------------\n",
      "+-----------------+-----------+\n",
      "|   account_region|credit_flow|\n",
      "+-----------------+-----------+\n",
      "|  African Free TZ|  89,170.07|\n",
      "|    East Asian TZ| 210,668.75|\n",
      "|       Eurasia TZ| 111,086.49|\n",
      "|North American TZ| 300,670.99|\n",
      "|   South Asian TZ|  50,829.43|\n",
      "+-----------------+-----------+\n",
      "\n"
     ]
    },
    {
     "name": "stderr",
     "output_type": "stream",
     "text": [
      "                                                                                \r"
     ]
    },
    {
     "name": "stdout",
     "output_type": "stream",
     "text": [
      "-------------------------------------------\n",
      "Batch: 104\n",
      "-------------------------------------------\n",
      "+-----------------+-----------+\n",
      "|   account_region|credit_flow|\n",
      "+-----------------+-----------+\n",
      "|  African Free TZ|  98,359.86|\n",
      "|    East Asian TZ| 210,668.75|\n",
      "|       Eurasia TZ| 111,086.49|\n",
      "|North American TZ| 300,670.99|\n",
      "|   South Asian TZ|  54,012.02|\n",
      "+-----------------+-----------+\n",
      "\n"
     ]
    },
    {
     "name": "stderr",
     "output_type": "stream",
     "text": [
      "                                                                                \r"
     ]
    },
    {
     "name": "stdout",
     "output_type": "stream",
     "text": [
      "-------------------------------------------\n",
      "Batch: 105\n",
      "-------------------------------------------\n",
      "+-----------------+-----------+\n",
      "|   account_region|credit_flow|\n",
      "+-----------------+-----------+\n",
      "|  African Free TZ|  98,359.86|\n",
      "|    East Asian TZ| 210,668.75|\n",
      "|       Eurasia TZ| 111,086.49|\n",
      "|North American TZ| 305,376.55|\n",
      "|   South Asian TZ|  54,012.02|\n",
      "+-----------------+-----------+\n",
      "\n"
     ]
    },
    {
     "name": "stderr",
     "output_type": "stream",
     "text": [
      "                                                                                \r"
     ]
    },
    {
     "name": "stdout",
     "output_type": "stream",
     "text": [
      "-------------------------------------------\n",
      "Batch: 106\n",
      "-------------------------------------------\n",
      "+-----------------+-----------+\n",
      "|   account_region|credit_flow|\n",
      "+-----------------+-----------+\n",
      "|  African Free TZ| 107,423.00|\n",
      "|    East Asian TZ| 210,668.75|\n",
      "|       Eurasia TZ| 111,086.49|\n",
      "|North American TZ| 305,376.55|\n",
      "|   South Asian TZ|  54,012.02|\n",
      "+-----------------+-----------+\n",
      "\n"
     ]
    },
    {
     "name": "stderr",
     "output_type": "stream",
     "text": [
      "                                                                                \r"
     ]
    },
    {
     "name": "stdout",
     "output_type": "stream",
     "text": [
      "-------------------------------------------\n",
      "Batch: 107\n",
      "-------------------------------------------\n",
      "+-----------------+-----------+\n",
      "|   account_region|credit_flow|\n",
      "+-----------------+-----------+\n",
      "|  African Free TZ| 107,423.00|\n",
      "|    East Asian TZ| 210,668.75|\n",
      "|       Eurasia TZ| 111,086.49|\n",
      "|North American TZ| 305,997.61|\n",
      "|   South Asian TZ|  54,012.02|\n",
      "+-----------------+-----------+\n",
      "\n"
     ]
    },
    {
     "name": "stderr",
     "output_type": "stream",
     "text": [
      "                                                                                \r"
     ]
    },
    {
     "name": "stdout",
     "output_type": "stream",
     "text": [
      "-------------------------------------------\n",
      "Batch: 108\n",
      "-------------------------------------------\n",
      "+-----------------+-----------+\n",
      "|   account_region|credit_flow|\n",
      "+-----------------+-----------+\n",
      "|  African Free TZ| 107,423.00|\n",
      "|    East Asian TZ| 210,668.75|\n",
      "|       Eurasia TZ| 117,419.46|\n",
      "|North American TZ| 305,997.61|\n",
      "|   South Asian TZ|  54,012.02|\n",
      "+-----------------+-----------+\n",
      "\n"
     ]
    },
    {
     "name": "stderr",
     "output_type": "stream",
     "text": [
      "                                                                                \r"
     ]
    },
    {
     "name": "stdout",
     "output_type": "stream",
     "text": [
      "-------------------------------------------\n",
      "Batch: 109\n",
      "-------------------------------------------\n",
      "+-----------------+-----------+\n",
      "|   account_region|credit_flow|\n",
      "+-----------------+-----------+\n",
      "|  African Free TZ| 116,234.84|\n",
      "|    East Asian TZ| 210,668.75|\n",
      "|       Eurasia TZ| 117,419.46|\n",
      "|North American TZ| 305,997.61|\n",
      "|   South Asian TZ|  54,012.02|\n",
      "+-----------------+-----------+\n",
      "\n"
     ]
    },
    {
     "name": "stderr",
     "output_type": "stream",
     "text": [
      "                                                                                \r"
     ]
    },
    {
     "name": "stdout",
     "output_type": "stream",
     "text": [
      "-------------------------------------------\n",
      "Batch: 110\n",
      "-------------------------------------------\n",
      "+-----------------+-----------+\n",
      "|   account_region|credit_flow|\n",
      "+-----------------+-----------+\n",
      "|  African Free TZ| 116,234.84|\n",
      "|    East Asian TZ| 210,668.75|\n",
      "|       Eurasia TZ| 125,999.83|\n",
      "|North American TZ| 305,997.61|\n",
      "|   South Asian TZ|  61,005.87|\n",
      "+-----------------+-----------+\n",
      "\n"
     ]
    },
    {
     "name": "stderr",
     "output_type": "stream",
     "text": [
      "                                                                                \r"
     ]
    },
    {
     "name": "stdout",
     "output_type": "stream",
     "text": [
      "-------------------------------------------\n",
      "Batch: 111\n",
      "-------------------------------------------\n",
      "+-----------------+-----------+\n",
      "|   account_region|credit_flow|\n",
      "+-----------------+-----------+\n",
      "|  African Free TZ| 116,234.84|\n",
      "|    East Asian TZ| 216,449.80|\n",
      "|       Eurasia TZ| 125,999.83|\n",
      "|North American TZ| 305,997.61|\n",
      "|   South Asian TZ|  61,005.87|\n",
      "+-----------------+-----------+\n",
      "\n"
     ]
    },
    {
     "name": "stderr",
     "output_type": "stream",
     "text": [
      "                                                                                \r"
     ]
    },
    {
     "name": "stdout",
     "output_type": "stream",
     "text": [
      "-------------------------------------------\n",
      "Batch: 112\n",
      "-------------------------------------------\n",
      "+-----------------+-----------+\n",
      "|   account_region|credit_flow|\n",
      "+-----------------+-----------+\n",
      "|  African Free TZ| 116,234.84|\n",
      "|    East Asian TZ| 216,449.80|\n",
      "|       Eurasia TZ| 126,518.86|\n",
      "|North American TZ| 305,997.61|\n",
      "|   South Asian TZ|  61,005.87|\n",
      "+-----------------+-----------+\n",
      "\n"
     ]
    },
    {
     "name": "stderr",
     "output_type": "stream",
     "text": [
      "                                                                                \r"
     ]
    },
    {
     "name": "stdout",
     "output_type": "stream",
     "text": [
      "-------------------------------------------\n",
      "Batch: 113\n",
      "-------------------------------------------\n",
      "+-----------------+-----------+\n",
      "|   account_region|credit_flow|\n",
      "+-----------------+-----------+\n",
      "|  African Free TZ| 118,536.23|\n",
      "|    East Asian TZ| 226,401.20|\n",
      "|       Eurasia TZ| 126,518.86|\n",
      "|North American TZ| 305,997.61|\n",
      "|   South Asian TZ|  61,005.87|\n",
      "+-----------------+-----------+\n",
      "\n"
     ]
    },
    {
     "name": "stderr",
     "output_type": "stream",
     "text": [
      "                                                                                \r"
     ]
    },
    {
     "name": "stdout",
     "output_type": "stream",
     "text": [
      "-------------------------------------------\n",
      "Batch: 114\n",
      "-------------------------------------------\n",
      "+-----------------+-----------+\n",
      "|   account_region|credit_flow|\n",
      "+-----------------+-----------+\n",
      "|  African Free TZ| 118,536.23|\n",
      "|    East Asian TZ| 226,401.20|\n",
      "|       Eurasia TZ| 126,518.86|\n",
      "|North American TZ| 315,646.30|\n",
      "|   South Asian TZ|  61,005.87|\n",
      "+-----------------+-----------+\n",
      "\n"
     ]
    },
    {
     "name": "stderr",
     "output_type": "stream",
     "text": [
      "                                                                                \r"
     ]
    },
    {
     "name": "stdout",
     "output_type": "stream",
     "text": [
      "-------------------------------------------\n",
      "Batch: 115\n",
      "-------------------------------------------\n",
      "+-----------------+-----------+\n",
      "|   account_region|credit_flow|\n",
      "+-----------------+-----------+\n",
      "|  African Free TZ| 118,536.23|\n",
      "|    East Asian TZ| 226,401.20|\n",
      "|       Eurasia TZ| 135,565.39|\n",
      "|North American TZ| 315,646.30|\n",
      "|   South Asian TZ|  61,005.87|\n",
      "+-----------------+-----------+\n",
      "\n"
     ]
    },
    {
     "name": "stderr",
     "output_type": "stream",
     "text": [
      "                                                                                \r"
     ]
    },
    {
     "name": "stdout",
     "output_type": "stream",
     "text": [
      "-------------------------------------------\n",
      "Batch: 116\n",
      "-------------------------------------------\n",
      "+-----------------+-----------+\n",
      "|   account_region|credit_flow|\n",
      "+-----------------+-----------+\n",
      "|  African Free TZ| 118,536.23|\n",
      "|    East Asian TZ| 226,401.20|\n",
      "|       Eurasia TZ| 135,565.39|\n",
      "|North American TZ| 316,303.14|\n",
      "|   South Asian TZ|  61,005.87|\n",
      "+-----------------+-----------+\n",
      "\n"
     ]
    },
    {
     "name": "stderr",
     "output_type": "stream",
     "text": [
      "                                                                                \r"
     ]
    },
    {
     "name": "stdout",
     "output_type": "stream",
     "text": [
      "-------------------------------------------\n",
      "Batch: 117\n",
      "-------------------------------------------\n",
      "+-----------------+-----------+\n",
      "|   account_region|credit_flow|\n",
      "+-----------------+-----------+\n",
      "|  African Free TZ| 118,536.23|\n",
      "|    East Asian TZ| 226,401.20|\n",
      "|       Eurasia TZ| 135,565.39|\n",
      "|North American TZ| 323,363.01|\n",
      "|   South Asian TZ|  61,005.87|\n",
      "+-----------------+-----------+\n",
      "\n"
     ]
    },
    {
     "name": "stderr",
     "output_type": "stream",
     "text": [
      "                                                                                \r"
     ]
    },
    {
     "name": "stdout",
     "output_type": "stream",
     "text": [
      "-------------------------------------------\n",
      "Batch: 118\n",
      "-------------------------------------------\n",
      "+-----------------+-----------+\n",
      "|   account_region|credit_flow|\n",
      "+-----------------+-----------+\n",
      "|  African Free TZ| 118,536.23|\n",
      "|    East Asian TZ| 226,401.20|\n",
      "|       Eurasia TZ| 135,565.39|\n",
      "|North American TZ| 324,602.80|\n",
      "|   South Asian TZ|  61,005.87|\n",
      "+-----------------+-----------+\n",
      "\n"
     ]
    },
    {
     "name": "stderr",
     "output_type": "stream",
     "text": [
      "                                                                                \r"
     ]
    },
    {
     "name": "stdout",
     "output_type": "stream",
     "text": [
      "-------------------------------------------\n",
      "Batch: 119\n",
      "-------------------------------------------\n",
      "+-----------------+-----------+\n",
      "|   account_region|credit_flow|\n",
      "+-----------------+-----------+\n",
      "|  African Free TZ| 118,536.23|\n",
      "|    East Asian TZ| 235,151.40|\n",
      "|       Eurasia TZ| 136,824.42|\n",
      "|North American TZ| 334,165.23|\n",
      "|   South Asian TZ|  61,005.87|\n",
      "+-----------------+-----------+\n",
      "\n"
     ]
    },
    {
     "name": "stderr",
     "output_type": "stream",
     "text": [
      "                                                                                \r"
     ]
    },
    {
     "name": "stdout",
     "output_type": "stream",
     "text": [
      "-------------------------------------------\n",
      "Batch: 120\n",
      "-------------------------------------------\n",
      "+-----------------+-----------+\n",
      "|   account_region|credit_flow|\n",
      "+-----------------+-----------+\n",
      "|  African Free TZ| 118,536.23|\n",
      "|    East Asian TZ| 235,151.40|\n",
      "|       Eurasia TZ| 136,824.42|\n",
      "|North American TZ| 334,165.23|\n",
      "|   South Asian TZ|  69,477.29|\n",
      "+-----------------+-----------+\n",
      "\n"
     ]
    },
    {
     "name": "stderr",
     "output_type": "stream",
     "text": [
      "                                                                                \r"
     ]
    },
    {
     "name": "stdout",
     "output_type": "stream",
     "text": [
      "-------------------------------------------\n",
      "Batch: 121\n",
      "-------------------------------------------\n",
      "+-----------------+-----------+\n",
      "|   account_region|credit_flow|\n",
      "+-----------------+-----------+\n",
      "|  African Free TZ| 118,536.23|\n",
      "|    East Asian TZ| 240,804.85|\n",
      "|       Eurasia TZ| 136,824.42|\n",
      "|North American TZ| 334,165.23|\n",
      "|   South Asian TZ|  69,477.29|\n",
      "+-----------------+-----------+\n",
      "\n"
     ]
    },
    {
     "name": "stderr",
     "output_type": "stream",
     "text": [
      "                                                                                \r"
     ]
    },
    {
     "name": "stdout",
     "output_type": "stream",
     "text": [
      "-------------------------------------------\n",
      "Batch: 122\n",
      "-------------------------------------------\n",
      "+-----------------+-----------+\n",
      "|   account_region|credit_flow|\n",
      "+-----------------+-----------+\n",
      "|  African Free TZ| 118,536.23|\n",
      "|    East Asian TZ| 243,134.74|\n",
      "|       Eurasia TZ| 136,824.42|\n",
      "|North American TZ| 334,165.23|\n",
      "|   South Asian TZ|  69,477.29|\n",
      "+-----------------+-----------+\n",
      "\n"
     ]
    },
    {
     "name": "stderr",
     "output_type": "stream",
     "text": [
      "                                                                                \r"
     ]
    },
    {
     "name": "stdout",
     "output_type": "stream",
     "text": [
      "-------------------------------------------\n",
      "Batch: 123\n",
      "-------------------------------------------\n",
      "+-----------------+-----------+\n",
      "|   account_region|credit_flow|\n",
      "+-----------------+-----------+\n",
      "|  African Free TZ| 123,945.45|\n",
      "|    East Asian TZ| 243,134.74|\n",
      "|       Eurasia TZ| 137,837.48|\n",
      "|North American TZ| 334,165.23|\n",
      "|   South Asian TZ|  69,477.29|\n",
      "+-----------------+-----------+\n",
      "\n"
     ]
    },
    {
     "name": "stderr",
     "output_type": "stream",
     "text": [
      "                                                                                \r"
     ]
    },
    {
     "name": "stdout",
     "output_type": "stream",
     "text": [
      "-------------------------------------------\n",
      "Batch: 124\n",
      "-------------------------------------------\n",
      "+-----------------+-----------+\n",
      "|   account_region|credit_flow|\n",
      "+-----------------+-----------+\n",
      "|  African Free TZ| 128,585.39|\n",
      "|    East Asian TZ| 247,753.76|\n",
      "|       Eurasia TZ| 137,837.48|\n",
      "|North American TZ| 334,165.23|\n",
      "|   South Asian TZ|  69,477.29|\n",
      "+-----------------+-----------+\n",
      "\n"
     ]
    },
    {
     "name": "stderr",
     "output_type": "stream",
     "text": [
      "                                                                                \r"
     ]
    },
    {
     "name": "stdout",
     "output_type": "stream",
     "text": [
      "-------------------------------------------\n",
      "Batch: 125\n",
      "-------------------------------------------\n",
      "+-----------------+-----------+\n",
      "|   account_region|credit_flow|\n",
      "+-----------------+-----------+\n",
      "|  African Free TZ| 128,585.39|\n",
      "|    East Asian TZ| 251,041.82|\n",
      "|       Eurasia TZ| 139,935.37|\n",
      "|North American TZ| 340,968.83|\n",
      "|   South Asian TZ|  69,477.29|\n",
      "+-----------------+-----------+\n",
      "\n"
     ]
    },
    {
     "name": "stderr",
     "output_type": "stream",
     "text": [
      "                                                                                \r"
     ]
    },
    {
     "name": "stdout",
     "output_type": "stream",
     "text": [
      "-------------------------------------------\n",
      "Batch: 126\n",
      "-------------------------------------------\n",
      "+-----------------+-----------+\n",
      "|   account_region|credit_flow|\n",
      "+-----------------+-----------+\n",
      "|  African Free TZ| 128,585.39|\n",
      "|    East Asian TZ| 251,041.82|\n",
      "|       Eurasia TZ| 139,935.37|\n",
      "|North American TZ| 340,968.83|\n",
      "|   South Asian TZ|  75,234.44|\n",
      "+-----------------+-----------+\n",
      "\n"
     ]
    },
    {
     "name": "stderr",
     "output_type": "stream",
     "text": [
      "                                                                                \r"
     ]
    },
    {
     "name": "stdout",
     "output_type": "stream",
     "text": [
      "-------------------------------------------\n",
      "Batch: 127\n",
      "-------------------------------------------\n",
      "+-----------------+-----------+\n",
      "|   account_region|credit_flow|\n",
      "+-----------------+-----------+\n",
      "|  African Free TZ| 136,480.46|\n",
      "|    East Asian TZ| 251,041.82|\n",
      "|       Eurasia TZ| 139,935.37|\n",
      "|North American TZ| 347,459.16|\n",
      "|   South Asian TZ|  75,234.44|\n",
      "+-----------------+-----------+\n",
      "\n"
     ]
    },
    {
     "name": "stderr",
     "output_type": "stream",
     "text": [
      "                                                                                \r"
     ]
    },
    {
     "name": "stdout",
     "output_type": "stream",
     "text": [
      "-------------------------------------------\n",
      "Batch: 128\n",
      "-------------------------------------------\n",
      "+-----------------+-----------+\n",
      "|   account_region|credit_flow|\n",
      "+-----------------+-----------+\n",
      "|  African Free TZ| 136,480.46|\n",
      "|    East Asian TZ| 254,055.05|\n",
      "|       Eurasia TZ| 139,935.37|\n",
      "|North American TZ| 347,459.16|\n",
      "|   South Asian TZ|  75,234.44|\n",
      "+-----------------+-----------+\n",
      "\n"
     ]
    },
    {
     "name": "stderr",
     "output_type": "stream",
     "text": [
      "                                                                                \r"
     ]
    },
    {
     "name": "stdout",
     "output_type": "stream",
     "text": [
      "-------------------------------------------\n",
      "Batch: 129\n",
      "-------------------------------------------\n",
      "+-----------------+-----------+\n",
      "|   account_region|credit_flow|\n",
      "+-----------------+-----------+\n",
      "|  African Free TZ| 136,480.46|\n",
      "|    East Asian TZ| 254,055.05|\n",
      "|       Eurasia TZ| 139,935.37|\n",
      "|North American TZ| 348,796.18|\n",
      "|   South Asian TZ|  75,234.44|\n",
      "+-----------------+-----------+\n",
      "\n"
     ]
    },
    {
     "name": "stderr",
     "output_type": "stream",
     "text": [
      "                                                                                \r"
     ]
    },
    {
     "name": "stdout",
     "output_type": "stream",
     "text": [
      "-------------------------------------------\n",
      "Batch: 130\n",
      "-------------------------------------------\n",
      "+-----------------+-----------+\n",
      "|   account_region|credit_flow|\n",
      "+-----------------+-----------+\n",
      "|  African Free TZ| 143,240.41|\n",
      "|    East Asian TZ| 254,055.05|\n",
      "|       Eurasia TZ| 139,935.37|\n",
      "|North American TZ| 348,796.18|\n",
      "|   South Asian TZ|  75,234.44|\n",
      "+-----------------+-----------+\n",
      "\n"
     ]
    },
    {
     "name": "stderr",
     "output_type": "stream",
     "text": [
      "                                                                                \r"
     ]
    },
    {
     "name": "stdout",
     "output_type": "stream",
     "text": [
      "-------------------------------------------\n",
      "Batch: 131\n",
      "-------------------------------------------\n",
      "+-----------------+-----------+\n",
      "|   account_region|credit_flow|\n",
      "+-----------------+-----------+\n",
      "|  African Free TZ| 143,240.41|\n",
      "|    East Asian TZ| 254,055.05|\n",
      "|       Eurasia TZ| 140,188.68|\n",
      "|North American TZ| 348,796.18|\n",
      "|   South Asian TZ|  75,234.44|\n",
      "+-----------------+-----------+\n",
      "\n"
     ]
    },
    {
     "name": "stderr",
     "output_type": "stream",
     "text": [
      "                                                                                \r"
     ]
    },
    {
     "name": "stdout",
     "output_type": "stream",
     "text": [
      "-------------------------------------------\n",
      "Batch: 132\n",
      "-------------------------------------------\n",
      "+-----------------+-----------+\n",
      "|   account_region|credit_flow|\n",
      "+-----------------+-----------+\n",
      "|  African Free TZ| 143,240.41|\n",
      "|    East Asian TZ| 254,055.05|\n",
      "|       Eurasia TZ| 149,966.38|\n",
      "|North American TZ| 348,796.18|\n",
      "|   South Asian TZ|  75,234.44|\n",
      "+-----------------+-----------+\n",
      "\n"
     ]
    },
    {
     "name": "stderr",
     "output_type": "stream",
     "text": [
      "                                                                                \r"
     ]
    },
    {
     "name": "stdout",
     "output_type": "stream",
     "text": [
      "-------------------------------------------\n",
      "Batch: 133\n",
      "-------------------------------------------\n",
      "+-----------------+-----------+\n",
      "|   account_region|credit_flow|\n",
      "+-----------------+-----------+\n",
      "|  African Free TZ| 151,569.13|\n",
      "|    East Asian TZ| 254,055.05|\n",
      "|       Eurasia TZ| 149,966.38|\n",
      "|North American TZ| 348,796.18|\n",
      "|   South Asian TZ|  75,234.44|\n",
      "+-----------------+-----------+\n",
      "\n"
     ]
    },
    {
     "name": "stderr",
     "output_type": "stream",
     "text": [
      "                                                                                \r"
     ]
    },
    {
     "name": "stdout",
     "output_type": "stream",
     "text": [
      "-------------------------------------------\n",
      "Batch: 134\n",
      "-------------------------------------------\n",
      "+-----------------+-----------+\n",
      "|   account_region|credit_flow|\n",
      "+-----------------+-----------+\n",
      "|  African Free TZ| 151,569.13|\n",
      "|    East Asian TZ| 254,055.05|\n",
      "|       Eurasia TZ| 149,966.38|\n",
      "|North American TZ| 357,986.45|\n",
      "|   South Asian TZ|  75,234.44|\n",
      "+-----------------+-----------+\n",
      "\n"
     ]
    },
    {
     "name": "stderr",
     "output_type": "stream",
     "text": [
      "                                                                                \r"
     ]
    },
    {
     "name": "stdout",
     "output_type": "stream",
     "text": [
      "-------------------------------------------\n",
      "Batch: 135\n",
      "-------------------------------------------\n",
      "+-----------------+-----------+\n",
      "|   account_region|credit_flow|\n",
      "+-----------------+-----------+\n",
      "|  African Free TZ| 151,569.13|\n",
      "|    East Asian TZ| 254,055.05|\n",
      "|       Eurasia TZ| 154,552.85|\n",
      "|North American TZ| 357,986.45|\n",
      "|   South Asian TZ|  75,234.44|\n",
      "+-----------------+-----------+\n",
      "\n"
     ]
    },
    {
     "name": "stderr",
     "output_type": "stream",
     "text": [
      "                                                                                \r"
     ]
    },
    {
     "name": "stdout",
     "output_type": "stream",
     "text": [
      "-------------------------------------------\n",
      "Batch: 136\n",
      "-------------------------------------------\n",
      "+-----------------+-----------+\n",
      "|   account_region|credit_flow|\n",
      "+-----------------+-----------+\n",
      "|  African Free TZ| 151,569.13|\n",
      "|    East Asian TZ| 254,055.05|\n",
      "|       Eurasia TZ| 154,552.85|\n",
      "|North American TZ| 366,855.06|\n",
      "|   South Asian TZ|  75,234.44|\n",
      "+-----------------+-----------+\n",
      "\n"
     ]
    },
    {
     "name": "stderr",
     "output_type": "stream",
     "text": [
      "                                                                                \r"
     ]
    },
    {
     "name": "stdout",
     "output_type": "stream",
     "text": [
      "-------------------------------------------\n",
      "Batch: 137\n",
      "-------------------------------------------\n",
      "+-----------------+-----------+\n",
      "|   account_region|credit_flow|\n",
      "+-----------------+-----------+\n",
      "|  African Free TZ| 151,569.13|\n",
      "|    East Asian TZ| 254,055.05|\n",
      "|       Eurasia TZ| 154,552.85|\n",
      "|North American TZ| 366,855.06|\n",
      "|   South Asian TZ|  75,947.08|\n",
      "+-----------------+-----------+\n",
      "\n"
     ]
    },
    {
     "name": "stderr",
     "output_type": "stream",
     "text": [
      "                                                                                \r"
     ]
    },
    {
     "name": "stdout",
     "output_type": "stream",
     "text": [
      "-------------------------------------------\n",
      "Batch: 138\n",
      "-------------------------------------------\n",
      "+-----------------+-----------+\n",
      "|   account_region|credit_flow|\n",
      "+-----------------+-----------+\n",
      "|  African Free TZ| 151,569.13|\n",
      "|    East Asian TZ| 254,055.05|\n",
      "|       Eurasia TZ| 154,552.85|\n",
      "|North American TZ| 372,469.41|\n",
      "|   South Asian TZ|  75,947.08|\n",
      "+-----------------+-----------+\n",
      "\n"
     ]
    },
    {
     "name": "stderr",
     "output_type": "stream",
     "text": [
      "                                                                                \r"
     ]
    },
    {
     "name": "stdout",
     "output_type": "stream",
     "text": [
      "-------------------------------------------\n",
      "Batch: 139\n",
      "-------------------------------------------\n",
      "+-----------------+-----------+\n",
      "|   account_region|credit_flow|\n",
      "+-----------------+-----------+\n",
      "|  African Free TZ| 151,569.13|\n",
      "|    East Asian TZ| 254,055.05|\n",
      "|       Eurasia TZ| 154,552.85|\n",
      "|North American TZ| 375,124.19|\n",
      "|   South Asian TZ|  78,885.90|\n",
      "+-----------------+-----------+\n",
      "\n"
     ]
    },
    {
     "name": "stderr",
     "output_type": "stream",
     "text": [
      "                                                                                \r"
     ]
    },
    {
     "name": "stdout",
     "output_type": "stream",
     "text": [
      "-------------------------------------------\n",
      "Batch: 140\n",
      "-------------------------------------------\n",
      "+-----------------+-----------+\n",
      "|   account_region|credit_flow|\n",
      "+-----------------+-----------+\n",
      "|  African Free TZ| 151,569.13|\n",
      "|    East Asian TZ| 254,055.05|\n",
      "|       Eurasia TZ| 154,552.85|\n",
      "|North American TZ| 378,970.01|\n",
      "|   South Asian TZ|  78,885.90|\n",
      "+-----------------+-----------+\n",
      "\n"
     ]
    },
    {
     "name": "stderr",
     "output_type": "stream",
     "text": [
      "                                                                                \r"
     ]
    },
    {
     "name": "stdout",
     "output_type": "stream",
     "text": [
      "-------------------------------------------\n",
      "Batch: 141\n",
      "-------------------------------------------\n",
      "+-----------------+-----------+\n",
      "|   account_region|credit_flow|\n",
      "+-----------------+-----------+\n",
      "|  African Free TZ| 151,569.13|\n",
      "|    East Asian TZ| 254,055.05|\n",
      "|       Eurasia TZ| 154,552.85|\n",
      "|North American TZ| 385,767.29|\n",
      "|   South Asian TZ|  78,885.90|\n",
      "+-----------------+-----------+\n",
      "\n"
     ]
    },
    {
     "name": "stderr",
     "output_type": "stream",
     "text": [
      "                                                                                \r"
     ]
    },
    {
     "name": "stdout",
     "output_type": "stream",
     "text": [
      "-------------------------------------------\n",
      "Batch: 142\n",
      "-------------------------------------------\n",
      "+-----------------+-----------+\n",
      "|   account_region|credit_flow|\n",
      "+-----------------+-----------+\n",
      "|  African Free TZ| 151,569.13|\n",
      "|    East Asian TZ| 254,055.05|\n",
      "|       Eurasia TZ| 154,989.50|\n",
      "|North American TZ| 385,767.29|\n",
      "|   South Asian TZ|  78,885.90|\n",
      "+-----------------+-----------+\n",
      "\n"
     ]
    },
    {
     "name": "stderr",
     "output_type": "stream",
     "text": [
      "                                                                                \r"
     ]
    },
    {
     "name": "stdout",
     "output_type": "stream",
     "text": [
      "-------------------------------------------\n",
      "Batch: 143\n",
      "-------------------------------------------\n",
      "+-----------------+-----------+\n",
      "|   account_region|credit_flow|\n",
      "+-----------------+-----------+\n",
      "|  African Free TZ| 151,569.13|\n",
      "|    East Asian TZ| 259,958.86|\n",
      "|       Eurasia TZ| 154,989.50|\n",
      "|North American TZ| 390,878.86|\n",
      "|   South Asian TZ|  78,885.90|\n",
      "+-----------------+-----------+\n",
      "\n"
     ]
    },
    {
     "name": "stderr",
     "output_type": "stream",
     "text": [
      "                                                                                \r"
     ]
    },
    {
     "name": "stdout",
     "output_type": "stream",
     "text": [
      "-------------------------------------------\n",
      "Batch: 144\n",
      "-------------------------------------------\n",
      "+-----------------+-----------+\n",
      "|   account_region|credit_flow|\n",
      "+-----------------+-----------+\n",
      "|  African Free TZ| 159,152.19|\n",
      "|    East Asian TZ| 259,958.86|\n",
      "|       Eurasia TZ| 155,099.14|\n",
      "|North American TZ| 390,878.86|\n",
      "|   South Asian TZ|  78,885.90|\n",
      "+-----------------+-----------+\n",
      "\n"
     ]
    },
    {
     "name": "stderr",
     "output_type": "stream",
     "text": [
      "                                                                                \r"
     ]
    },
    {
     "name": "stdout",
     "output_type": "stream",
     "text": [
      "-------------------------------------------\n",
      "Batch: 145\n",
      "-------------------------------------------\n",
      "+-----------------+-----------+\n",
      "|   account_region|credit_flow|\n",
      "+-----------------+-----------+\n",
      "|  African Free TZ| 159,152.19|\n",
      "|    East Asian TZ| 259,958.86|\n",
      "|       Eurasia TZ| 155,099.14|\n",
      "|North American TZ| 396,951.85|\n",
      "|   South Asian TZ|  78,885.90|\n",
      "+-----------------+-----------+\n",
      "\n"
     ]
    },
    {
     "name": "stderr",
     "output_type": "stream",
     "text": [
      "                                                                                \r"
     ]
    },
    {
     "name": "stdout",
     "output_type": "stream",
     "text": [
      "-------------------------------------------\n",
      "Batch: 146\n",
      "-------------------------------------------\n",
      "+-----------------+-----------+\n",
      "|   account_region|credit_flow|\n",
      "+-----------------+-----------+\n",
      "|  African Free TZ| 159,152.19|\n",
      "|    East Asian TZ| 259,958.86|\n",
      "|       Eurasia TZ| 155,099.14|\n",
      "|North American TZ| 406,275.30|\n",
      "|   South Asian TZ|  78,885.90|\n",
      "+-----------------+-----------+\n",
      "\n"
     ]
    },
    {
     "name": "stderr",
     "output_type": "stream",
     "text": [
      "                                                                                \r"
     ]
    },
    {
     "name": "stdout",
     "output_type": "stream",
     "text": [
      "-------------------------------------------\n",
      "Batch: 147\n",
      "-------------------------------------------\n",
      "+-----------------+-----------+\n",
      "|   account_region|credit_flow|\n",
      "+-----------------+-----------+\n",
      "|  African Free TZ| 159,152.19|\n",
      "|    East Asian TZ| 264,278.45|\n",
      "|       Eurasia TZ| 155,099.14|\n",
      "|North American TZ| 406,275.30|\n",
      "|   South Asian TZ|  78,885.90|\n",
      "+-----------------+-----------+\n",
      "\n"
     ]
    },
    {
     "name": "stderr",
     "output_type": "stream",
     "text": [
      "                                                                                \r"
     ]
    },
    {
     "name": "stdout",
     "output_type": "stream",
     "text": [
      "-------------------------------------------\n",
      "Batch: 148\n",
      "-------------------------------------------\n",
      "+-----------------+-----------+\n",
      "|   account_region|credit_flow|\n",
      "+-----------------+-----------+\n",
      "|  African Free TZ| 159,152.19|\n",
      "|    East Asian TZ| 272,985.97|\n",
      "|       Eurasia TZ| 161,422.28|\n",
      "|North American TZ| 406,275.30|\n",
      "|   South Asian TZ|  78,885.90|\n",
      "+-----------------+-----------+\n",
      "\n"
     ]
    },
    {
     "name": "stderr",
     "output_type": "stream",
     "text": [
      "                                                                                \r"
     ]
    },
    {
     "name": "stdout",
     "output_type": "stream",
     "text": [
      "-------------------------------------------\n",
      "Batch: 149\n",
      "-------------------------------------------\n",
      "+-----------------+-----------+\n",
      "|   account_region|credit_flow|\n",
      "+-----------------+-----------+\n",
      "|  African Free TZ| 160,161.77|\n",
      "|    East Asian TZ| 272,985.97|\n",
      "|       Eurasia TZ| 161,422.28|\n",
      "|North American TZ| 406,275.30|\n",
      "|   South Asian TZ|  78,885.90|\n",
      "+-----------------+-----------+\n",
      "\n"
     ]
    },
    {
     "name": "stderr",
     "output_type": "stream",
     "text": [
      "                                                                                \r"
     ]
    },
    {
     "name": "stdout",
     "output_type": "stream",
     "text": [
      "-------------------------------------------\n",
      "Batch: 150\n",
      "-------------------------------------------\n",
      "+-----------------+-----------+\n",
      "|   account_region|credit_flow|\n",
      "+-----------------+-----------+\n",
      "|  African Free TZ| 160,161.77|\n",
      "|    East Asian TZ| 272,985.97|\n",
      "|       Eurasia TZ| 161,422.28|\n",
      "|North American TZ| 430,849.62|\n",
      "|   South Asian TZ|  78,885.90|\n",
      "+-----------------+-----------+\n",
      "\n"
     ]
    },
    {
     "name": "stderr",
     "output_type": "stream",
     "text": [
      "                                                                                \r"
     ]
    },
    {
     "name": "stdout",
     "output_type": "stream",
     "text": [
      "-------------------------------------------\n",
      "Batch: 151\n",
      "-------------------------------------------\n",
      "+-----------------+-----------+\n",
      "|   account_region|credit_flow|\n",
      "+-----------------+-----------+\n",
      "|  African Free TZ| 160,161.77|\n",
      "|    East Asian TZ| 274,995.49|\n",
      "|       Eurasia TZ| 161,422.28|\n",
      "|North American TZ| 430,849.62|\n",
      "|   South Asian TZ|  78,885.90|\n",
      "+-----------------+-----------+\n",
      "\n"
     ]
    },
    {
     "name": "stderr",
     "output_type": "stream",
     "text": [
      "                                                                                \r"
     ]
    },
    {
     "name": "stdout",
     "output_type": "stream",
     "text": [
      "-------------------------------------------\n",
      "Batch: 152\n",
      "-------------------------------------------\n",
      "+-----------------+-----------+\n",
      "|   account_region|credit_flow|\n",
      "+-----------------+-----------+\n",
      "|  African Free TZ| 160,161.77|\n",
      "|    East Asian TZ| 274,995.49|\n",
      "|       Eurasia TZ| 168,816.23|\n",
      "|North American TZ| 434,533.48|\n",
      "|   South Asian TZ|  78,885.90|\n",
      "+-----------------+-----------+\n",
      "\n"
     ]
    },
    {
     "name": "stderr",
     "output_type": "stream",
     "text": [
      "                                                                                \r"
     ]
    },
    {
     "name": "stdout",
     "output_type": "stream",
     "text": [
      "-------------------------------------------\n",
      "Batch: 153\n",
      "-------------------------------------------\n",
      "+-----------------+-----------+\n",
      "|   account_region|credit_flow|\n",
      "+-----------------+-----------+\n",
      "|  African Free TZ| 160,161.77|\n",
      "|    East Asian TZ| 274,995.49|\n",
      "|       Eurasia TZ| 169,474.53|\n",
      "|North American TZ| 434,533.48|\n",
      "|   South Asian TZ|  82,354.66|\n",
      "+-----------------+-----------+\n",
      "\n"
     ]
    },
    {
     "name": "stderr",
     "output_type": "stream",
     "text": [
      "                                                                                \r"
     ]
    },
    {
     "name": "stdout",
     "output_type": "stream",
     "text": [
      "-------------------------------------------\n",
      "Batch: 154\n",
      "-------------------------------------------\n",
      "+-----------------+-----------+\n",
      "|   account_region|credit_flow|\n",
      "+-----------------+-----------+\n",
      "|  African Free TZ| 160,161.77|\n",
      "|    East Asian TZ| 274,995.49|\n",
      "|       Eurasia TZ| 169,474.53|\n",
      "|North American TZ| 443,313.13|\n",
      "|   South Asian TZ|  82,354.66|\n",
      "+-----------------+-----------+\n",
      "\n"
     ]
    },
    {
     "name": "stderr",
     "output_type": "stream",
     "text": [
      "                                                                                \r"
     ]
    },
    {
     "name": "stdout",
     "output_type": "stream",
     "text": [
      "-------------------------------------------\n",
      "Batch: 155\n",
      "-------------------------------------------\n",
      "+-----------------+-----------+\n",
      "|   account_region|credit_flow|\n",
      "+-----------------+-----------+\n",
      "|  African Free TZ| 160,161.77|\n",
      "|    East Asian TZ| 274,995.49|\n",
      "|       Eurasia TZ| 169,474.53|\n",
      "|North American TZ| 450,646.96|\n",
      "|   South Asian TZ|  82,354.66|\n",
      "+-----------------+-----------+\n",
      "\n"
     ]
    },
    {
     "name": "stderr",
     "output_type": "stream",
     "text": [
      "                                                                                \r"
     ]
    },
    {
     "name": "stdout",
     "output_type": "stream",
     "text": [
      "-------------------------------------------\n",
      "Batch: 156\n",
      "-------------------------------------------\n",
      "+-----------------+-----------+\n",
      "|   account_region|credit_flow|\n",
      "+-----------------+-----------+\n",
      "|  African Free TZ| 160,161.77|\n",
      "|    East Asian TZ| 274,995.49|\n",
      "|       Eurasia TZ| 169,474.53|\n",
      "|North American TZ| 450,646.96|\n",
      "|   South Asian TZ|  89,469.56|\n",
      "+-----------------+-----------+\n",
      "\n"
     ]
    },
    {
     "name": "stderr",
     "output_type": "stream",
     "text": [
      "                                                                                \r"
     ]
    },
    {
     "name": "stdout",
     "output_type": "stream",
     "text": [
      "-------------------------------------------\n",
      "Batch: 157\n",
      "-------------------------------------------\n",
      "+-----------------+-----------+\n",
      "|   account_region|credit_flow|\n",
      "+-----------------+-----------+\n",
      "|  African Free TZ| 160,161.77|\n",
      "|    East Asian TZ| 281,688.25|\n",
      "|       Eurasia TZ| 169,474.53|\n",
      "|North American TZ| 450,646.96|\n",
      "|   South Asian TZ|  89,469.56|\n",
      "+-----------------+-----------+\n",
      "\n"
     ]
    },
    {
     "name": "stderr",
     "output_type": "stream",
     "text": [
      "                                                                                \r"
     ]
    },
    {
     "name": "stdout",
     "output_type": "stream",
     "text": [
      "-------------------------------------------\n",
      "Batch: 158\n",
      "-------------------------------------------\n",
      "+-----------------+-----------+\n",
      "|   account_region|credit_flow|\n",
      "+-----------------+-----------+\n",
      "|  African Free TZ| 160,161.77|\n",
      "|    East Asian TZ| 289,868.02|\n",
      "|       Eurasia TZ| 169,474.53|\n",
      "|North American TZ| 450,646.96|\n",
      "|   South Asian TZ|  89,469.56|\n",
      "+-----------------+-----------+\n",
      "\n"
     ]
    },
    {
     "name": "stderr",
     "output_type": "stream",
     "text": [
      "                                                                                \r"
     ]
    },
    {
     "name": "stdout",
     "output_type": "stream",
     "text": [
      "-------------------------------------------\n",
      "Batch: 159\n",
      "-------------------------------------------\n",
      "+-----------------+-----------+\n",
      "|   account_region|credit_flow|\n",
      "+-----------------+-----------+\n",
      "|  African Free TZ| 160,161.77|\n",
      "|    East Asian TZ| 294,159.23|\n",
      "|       Eurasia TZ| 169,474.53|\n",
      "|North American TZ| 450,646.96|\n",
      "|   South Asian TZ|  89,469.56|\n",
      "+-----------------+-----------+\n",
      "\n"
     ]
    },
    {
     "name": "stderr",
     "output_type": "stream",
     "text": [
      "                                                                                \r"
     ]
    },
    {
     "name": "stdout",
     "output_type": "stream",
     "text": [
      "-------------------------------------------\n",
      "Batch: 160\n",
      "-------------------------------------------\n",
      "+-----------------+-----------+\n",
      "|   account_region|credit_flow|\n",
      "+-----------------+-----------+\n",
      "|  African Free TZ| 160,161.77|\n",
      "|    East Asian TZ| 296,043.48|\n",
      "|       Eurasia TZ| 169,474.53|\n",
      "|North American TZ| 450,646.96|\n",
      "|   South Asian TZ|  89,469.56|\n",
      "+-----------------+-----------+\n",
      "\n"
     ]
    },
    {
     "name": "stderr",
     "output_type": "stream",
     "text": [
      "                                                                                \r"
     ]
    },
    {
     "name": "stdout",
     "output_type": "stream",
     "text": [
      "-------------------------------------------\n",
      "Batch: 161\n",
      "-------------------------------------------\n",
      "+-----------------+-----------+\n",
      "|   account_region|credit_flow|\n",
      "+-----------------+-----------+\n",
      "|  African Free TZ| 160,161.77|\n",
      "|    East Asian TZ| 302,036.12|\n",
      "|       Eurasia TZ| 176,932.12|\n",
      "|North American TZ| 460,635.47|\n",
      "|   South Asian TZ|  89,469.56|\n",
      "+-----------------+-----------+\n",
      "\n"
     ]
    },
    {
     "name": "stderr",
     "output_type": "stream",
     "text": [
      "                                                                                \r"
     ]
    },
    {
     "name": "stdout",
     "output_type": "stream",
     "text": [
      "-------------------------------------------\n",
      "Batch: 162\n",
      "-------------------------------------------\n",
      "+-----------------+-----------+\n",
      "|   account_region|credit_flow|\n",
      "+-----------------+-----------+\n",
      "|  African Free TZ| 168,424.42|\n",
      "|    East Asian TZ| 302,036.12|\n",
      "|       Eurasia TZ| 176,932.12|\n",
      "|North American TZ| 460,635.47|\n",
      "|   South Asian TZ|  89,469.56|\n",
      "+-----------------+-----------+\n",
      "\n"
     ]
    },
    {
     "name": "stderr",
     "output_type": "stream",
     "text": [
      "                                                                                \r"
     ]
    },
    {
     "name": "stdout",
     "output_type": "stream",
     "text": [
      "-------------------------------------------\n",
      "Batch: 163\n",
      "-------------------------------------------\n",
      "+-----------------+-----------+\n",
      "|   account_region|credit_flow|\n",
      "+-----------------+-----------+\n",
      "|  African Free TZ| 168,424.42|\n",
      "|    East Asian TZ| 302,036.12|\n",
      "|       Eurasia TZ| 176,932.12|\n",
      "|North American TZ| 464,016.08|\n",
      "|   South Asian TZ|  89,469.56|\n",
      "+-----------------+-----------+\n",
      "\n"
     ]
    },
    {
     "name": "stderr",
     "output_type": "stream",
     "text": [
      "                                                                                \r"
     ]
    },
    {
     "name": "stdout",
     "output_type": "stream",
     "text": [
      "-------------------------------------------\n",
      "Batch: 164\n",
      "-------------------------------------------\n",
      "+-----------------+-----------+\n",
      "|   account_region|credit_flow|\n",
      "+-----------------+-----------+\n",
      "|  African Free TZ| 168,424.42|\n",
      "|    East Asian TZ| 302,036.12|\n",
      "|       Eurasia TZ| 176,932.12|\n",
      "|North American TZ| 470,425.55|\n",
      "|   South Asian TZ|  89,469.56|\n",
      "+-----------------+-----------+\n",
      "\n"
     ]
    },
    {
     "name": "stderr",
     "output_type": "stream",
     "text": [
      "                                                                                \r"
     ]
    },
    {
     "name": "stdout",
     "output_type": "stream",
     "text": [
      "-------------------------------------------\n",
      "Batch: 165\n",
      "-------------------------------------------\n",
      "+-----------------+-----------+\n",
      "|   account_region|credit_flow|\n",
      "+-----------------+-----------+\n",
      "|  African Free TZ| 168,424.42|\n",
      "|    East Asian TZ| 302,036.12|\n",
      "|       Eurasia TZ| 176,932.12|\n",
      "|North American TZ| 476,503.85|\n",
      "|   South Asian TZ|  89,469.56|\n",
      "+-----------------+-----------+\n",
      "\n"
     ]
    },
    {
     "name": "stderr",
     "output_type": "stream",
     "text": [
      "                                                                                \r"
     ]
    },
    {
     "name": "stdout",
     "output_type": "stream",
     "text": [
      "-------------------------------------------\n",
      "Batch: 166\n",
      "-------------------------------------------\n",
      "+-----------------+-----------+\n",
      "|   account_region|credit_flow|\n",
      "+-----------------+-----------+\n",
      "|  African Free TZ| 168,424.42|\n",
      "|    East Asian TZ| 302,036.12|\n",
      "|       Eurasia TZ| 181,359.50|\n",
      "|North American TZ| 480,256.55|\n",
      "|   South Asian TZ|  89,469.56|\n",
      "+-----------------+-----------+\n",
      "\n"
     ]
    },
    {
     "name": "stderr",
     "output_type": "stream",
     "text": [
      "                                                                                \r"
     ]
    },
    {
     "name": "stdout",
     "output_type": "stream",
     "text": [
      "-------------------------------------------\n",
      "Batch: 167\n",
      "-------------------------------------------\n",
      "+-----------------+-----------+\n",
      "|   account_region|credit_flow|\n",
      "+-----------------+-----------+\n",
      "|  African Free TZ| 168,424.42|\n",
      "|    East Asian TZ| 302,036.12|\n",
      "|       Eurasia TZ| 181,359.50|\n",
      "|North American TZ| 483,418.52|\n",
      "|   South Asian TZ|  89,469.56|\n",
      "+-----------------+-----------+\n",
      "\n"
     ]
    },
    {
     "name": "stderr",
     "output_type": "stream",
     "text": [
      "                                                                                \r"
     ]
    },
    {
     "name": "stdout",
     "output_type": "stream",
     "text": [
      "-------------------------------------------\n",
      "Batch: 168\n",
      "-------------------------------------------\n",
      "+-----------------+-----------+\n",
      "|   account_region|credit_flow|\n",
      "+-----------------+-----------+\n",
      "|  African Free TZ| 168,424.42|\n",
      "|    East Asian TZ| 302,036.12|\n",
      "|       Eurasia TZ| 186,565.74|\n",
      "|North American TZ| 488,359.08|\n",
      "|   South Asian TZ|  89,469.56|\n",
      "+-----------------+-----------+\n",
      "\n"
     ]
    },
    {
     "name": "stderr",
     "output_type": "stream",
     "text": [
      "                                                                                \r"
     ]
    },
    {
     "name": "stdout",
     "output_type": "stream",
     "text": [
      "-------------------------------------------\n",
      "Batch: 169\n",
      "-------------------------------------------\n",
      "+-----------------+-----------+\n",
      "|   account_region|credit_flow|\n",
      "+-----------------+-----------+\n",
      "|  African Free TZ| 168,424.42|\n",
      "|    East Asian TZ| 302,036.12|\n",
      "|       Eurasia TZ| 192,266.87|\n",
      "|North American TZ| 496,875.44|\n",
      "|   South Asian TZ|  89,469.56|\n",
      "+-----------------+-----------+\n",
      "\n"
     ]
    },
    {
     "name": "stderr",
     "output_type": "stream",
     "text": [
      "                                                                                \r"
     ]
    },
    {
     "name": "stdout",
     "output_type": "stream",
     "text": [
      "-------------------------------------------\n",
      "Batch: 170\n",
      "-------------------------------------------\n",
      "+-----------------+-----------+\n",
      "|   account_region|credit_flow|\n",
      "+-----------------+-----------+\n",
      "|  African Free TZ| 168,424.42|\n",
      "|    East Asian TZ| 302,036.12|\n",
      "|       Eurasia TZ| 192,266.87|\n",
      "|North American TZ| 501,702.44|\n",
      "|   South Asian TZ|  89,469.56|\n",
      "+-----------------+-----------+\n",
      "\n"
     ]
    },
    {
     "name": "stderr",
     "output_type": "stream",
     "text": [
      "                                                                                \r"
     ]
    },
    {
     "name": "stdout",
     "output_type": "stream",
     "text": [
      "-------------------------------------------\n",
      "Batch: 171\n",
      "-------------------------------------------\n",
      "+-----------------+-----------+\n",
      "|   account_region|credit_flow|\n",
      "+-----------------+-----------+\n",
      "|  African Free TZ| 168,424.42|\n",
      "|    East Asian TZ| 302,036.12|\n",
      "|       Eurasia TZ| 192,266.87|\n",
      "|North American TZ| 505,761.65|\n",
      "|   South Asian TZ|  89,469.56|\n",
      "+-----------------+-----------+\n",
      "\n"
     ]
    },
    {
     "name": "stderr",
     "output_type": "stream",
     "text": [
      "                                                                                \r"
     ]
    },
    {
     "name": "stdout",
     "output_type": "stream",
     "text": [
      "-------------------------------------------\n",
      "Batch: 172\n",
      "-------------------------------------------\n",
      "+-----------------+-----------+\n",
      "|   account_region|credit_flow|\n",
      "+-----------------+-----------+\n",
      "|  African Free TZ| 168,424.42|\n",
      "|    East Asian TZ| 302,036.12|\n",
      "|       Eurasia TZ| 198,978.83|\n",
      "|North American TZ| 505,761.65|\n",
      "|   South Asian TZ|  89,469.56|\n",
      "+-----------------+-----------+\n",
      "\n"
     ]
    },
    {
     "name": "stderr",
     "output_type": "stream",
     "text": [
      "                                                                                \r"
     ]
    },
    {
     "name": "stdout",
     "output_type": "stream",
     "text": [
      "-------------------------------------------\n",
      "Batch: 173\n",
      "-------------------------------------------\n",
      "+-----------------+-----------+\n",
      "|   account_region|credit_flow|\n",
      "+-----------------+-----------+\n",
      "|  African Free TZ| 168,424.42|\n",
      "|    East Asian TZ| 305,388.78|\n",
      "|       Eurasia TZ| 198,978.83|\n",
      "|North American TZ| 505,761.65|\n",
      "|   South Asian TZ|  89,469.56|\n",
      "+-----------------+-----------+\n",
      "\n"
     ]
    },
    {
     "name": "stderr",
     "output_type": "stream",
     "text": [
      "                                                                                \r"
     ]
    },
    {
     "name": "stdout",
     "output_type": "stream",
     "text": [
      "-------------------------------------------\n",
      "Batch: 174\n",
      "-------------------------------------------\n",
      "+-----------------+-----------+\n",
      "|   account_region|credit_flow|\n",
      "+-----------------+-----------+\n",
      "|  African Free TZ| 168,424.42|\n",
      "|    East Asian TZ| 305,388.78|\n",
      "|       Eurasia TZ| 198,978.83|\n",
      "|North American TZ| 507,129.47|\n",
      "|   South Asian TZ|  89,469.56|\n",
      "+-----------------+-----------+\n",
      "\n"
     ]
    },
    {
     "name": "stderr",
     "output_type": "stream",
     "text": [
      "                                                                                \r"
     ]
    },
    {
     "name": "stdout",
     "output_type": "stream",
     "text": [
      "-------------------------------------------\n",
      "Batch: 175\n",
      "-------------------------------------------\n",
      "+-----------------+-----------+\n",
      "|   account_region|credit_flow|\n",
      "+-----------------+-----------+\n",
      "|  African Free TZ| 168,424.42|\n",
      "|    East Asian TZ| 305,388.78|\n",
      "|       Eurasia TZ| 198,978.83|\n",
      "|North American TZ| 509,958.29|\n",
      "|   South Asian TZ|  89,469.56|\n",
      "+-----------------+-----------+\n",
      "\n"
     ]
    },
    {
     "name": "stderr",
     "output_type": "stream",
     "text": [
      "                                                                                \r"
     ]
    },
    {
     "name": "stdout",
     "output_type": "stream",
     "text": [
      "-------------------------------------------\n",
      "Batch: 176\n",
      "-------------------------------------------\n",
      "+-----------------+-----------+\n",
      "|   account_region|credit_flow|\n",
      "+-----------------+-----------+\n",
      "|  African Free TZ| 168,424.42|\n",
      "|    East Asian TZ| 306,998.89|\n",
      "|       Eurasia TZ| 198,978.83|\n",
      "|North American TZ| 509,958.29|\n",
      "|   South Asian TZ|  89,469.56|\n",
      "+-----------------+-----------+\n",
      "\n"
     ]
    },
    {
     "name": "stderr",
     "output_type": "stream",
     "text": [
      "                                                                                \r"
     ]
    },
    {
     "name": "stdout",
     "output_type": "stream",
     "text": [
      "-------------------------------------------\n",
      "Batch: 177\n",
      "-------------------------------------------\n",
      "+-----------------+-----------+\n",
      "|   account_region|credit_flow|\n",
      "+-----------------+-----------+\n",
      "|  African Free TZ| 168,424.42|\n",
      "|    East Asian TZ| 306,998.89|\n",
      "|       Eurasia TZ| 198,978.83|\n",
      "|North American TZ| 510,339.66|\n",
      "|   South Asian TZ|  89,469.56|\n",
      "+-----------------+-----------+\n",
      "\n"
     ]
    },
    {
     "name": "stderr",
     "output_type": "stream",
     "text": [
      "                                                                                \r"
     ]
    },
    {
     "name": "stdout",
     "output_type": "stream",
     "text": [
      "-------------------------------------------\n",
      "Batch: 178\n",
      "-------------------------------------------\n",
      "+-----------------+-----------+\n",
      "|   account_region|credit_flow|\n",
      "+-----------------+-----------+\n",
      "|  African Free TZ| 168,424.42|\n",
      "|    East Asian TZ| 306,998.89|\n",
      "|       Eurasia TZ| 198,978.83|\n",
      "|North American TZ| 514,665.75|\n",
      "|   South Asian TZ|  89,469.56|\n",
      "+-----------------+-----------+\n",
      "\n"
     ]
    },
    {
     "name": "stderr",
     "output_type": "stream",
     "text": [
      "                                                                                \r"
     ]
    },
    {
     "name": "stdout",
     "output_type": "stream",
     "text": [
      "-------------------------------------------\n",
      "Batch: 179\n",
      "-------------------------------------------\n",
      "+-----------------+-----------+\n",
      "|   account_region|credit_flow|\n",
      "+-----------------+-----------+\n",
      "|  African Free TZ| 168,424.42|\n",
      "|    East Asian TZ| 310,261.20|\n",
      "|       Eurasia TZ| 198,978.83|\n",
      "|North American TZ| 514,665.75|\n",
      "|   South Asian TZ|  89,469.56|\n",
      "+-----------------+-----------+\n",
      "\n"
     ]
    },
    {
     "name": "stderr",
     "output_type": "stream",
     "text": [
      "                                                                                \r"
     ]
    },
    {
     "name": "stdout",
     "output_type": "stream",
     "text": [
      "-------------------------------------------\n",
      "Batch: 180\n",
      "-------------------------------------------\n",
      "+-----------------+-----------+\n",
      "|   account_region|credit_flow|\n",
      "+-----------------+-----------+\n",
      "|  African Free TZ| 173,115.58|\n",
      "|    East Asian TZ| 310,261.20|\n",
      "|       Eurasia TZ| 207,965.54|\n",
      "|North American TZ| 521,780.17|\n",
      "|   South Asian TZ|  89,469.56|\n",
      "+-----------------+-----------+\n",
      "\n"
     ]
    },
    {
     "name": "stderr",
     "output_type": "stream",
     "text": [
      "                                                                                \r"
     ]
    },
    {
     "name": "stdout",
     "output_type": "stream",
     "text": [
      "-------------------------------------------\n",
      "Batch: 181\n",
      "-------------------------------------------\n",
      "+-----------------+-----------+\n",
      "|   account_region|credit_flow|\n",
      "+-----------------+-----------+\n",
      "|  African Free TZ| 181,730.05|\n",
      "|    East Asian TZ| 310,261.20|\n",
      "|       Eurasia TZ| 207,965.54|\n",
      "|North American TZ| 521,780.17|\n",
      "|   South Asian TZ|  89,469.56|\n",
      "+-----------------+-----------+\n",
      "\n"
     ]
    },
    {
     "name": "stderr",
     "output_type": "stream",
     "text": [
      "                                                                                \r"
     ]
    },
    {
     "name": "stdout",
     "output_type": "stream",
     "text": [
      "-------------------------------------------\n",
      "Batch: 182\n",
      "-------------------------------------------\n",
      "+-----------------+-----------+\n",
      "|   account_region|credit_flow|\n",
      "+-----------------+-----------+\n",
      "|  African Free TZ| 181,730.05|\n",
      "|    East Asian TZ| 316,848.35|\n",
      "|       Eurasia TZ| 208,039.63|\n",
      "|North American TZ| 521,780.17|\n",
      "|   South Asian TZ|  89,469.56|\n",
      "+-----------------+-----------+\n",
      "\n"
     ]
    },
    {
     "name": "stderr",
     "output_type": "stream",
     "text": [
      "                                                                                \r"
     ]
    },
    {
     "name": "stdout",
     "output_type": "stream",
     "text": [
      "-------------------------------------------\n",
      "Batch: 183\n",
      "-------------------------------------------\n",
      "+-----------------+-----------+\n",
      "|   account_region|credit_flow|\n",
      "+-----------------+-----------+\n",
      "|  African Free TZ| 181,730.05|\n",
      "|    East Asian TZ| 316,848.35|\n",
      "|       Eurasia TZ| 208,039.63|\n",
      "|North American TZ| 530,600.36|\n",
      "|   South Asian TZ|  89,469.56|\n",
      "+-----------------+-----------+\n",
      "\n"
     ]
    },
    {
     "name": "stderr",
     "output_type": "stream",
     "text": [
      "                                                                                \r"
     ]
    },
    {
     "name": "stdout",
     "output_type": "stream",
     "text": [
      "-------------------------------------------\n",
      "Batch: 184\n",
      "-------------------------------------------\n",
      "+-----------------+-----------+\n",
      "|   account_region|credit_flow|\n",
      "+-----------------+-----------+\n",
      "|  African Free TZ| 181,730.05|\n",
      "|    East Asian TZ| 316,848.35|\n",
      "|       Eurasia TZ| 208,039.63|\n",
      "|North American TZ| 538,102.84|\n",
      "|   South Asian TZ|  89,469.56|\n",
      "+-----------------+-----------+\n",
      "\n"
     ]
    },
    {
     "name": "stderr",
     "output_type": "stream",
     "text": [
      "                                                                                \r"
     ]
    },
    {
     "name": "stdout",
     "output_type": "stream",
     "text": [
      "-------------------------------------------\n",
      "Batch: 185\n",
      "-------------------------------------------\n",
      "+-----------------+-----------+\n",
      "|   account_region|credit_flow|\n",
      "+-----------------+-----------+\n",
      "|  African Free TZ| 181,730.05|\n",
      "|    East Asian TZ| 317,658.12|\n",
      "|       Eurasia TZ| 208,039.63|\n",
      "|North American TZ| 538,102.84|\n",
      "|   South Asian TZ|  89,469.56|\n",
      "+-----------------+-----------+\n",
      "\n"
     ]
    },
    {
     "name": "stderr",
     "output_type": "stream",
     "text": [
      "                                                                                \r"
     ]
    },
    {
     "name": "stdout",
     "output_type": "stream",
     "text": [
      "-------------------------------------------\n",
      "Batch: 186\n",
      "-------------------------------------------\n",
      "+-----------------+-----------+\n",
      "|   account_region|credit_flow|\n",
      "+-----------------+-----------+\n",
      "|  African Free TZ| 181,730.05|\n",
      "|    East Asian TZ| 327,244.53|\n",
      "|       Eurasia TZ| 208,039.63|\n",
      "|North American TZ| 538,102.84|\n",
      "|   South Asian TZ|  89,469.56|\n",
      "+-----------------+-----------+\n",
      "\n"
     ]
    },
    {
     "name": "stderr",
     "output_type": "stream",
     "text": [
      "                                                                                \r"
     ]
    },
    {
     "name": "stdout",
     "output_type": "stream",
     "text": [
      "-------------------------------------------\n",
      "Batch: 187\n",
      "-------------------------------------------\n",
      "+-----------------+-----------+\n",
      "|   account_region|credit_flow|\n",
      "+-----------------+-----------+\n",
      "|  African Free TZ| 181,730.05|\n",
      "|    East Asian TZ| 333,075.70|\n",
      "|       Eurasia TZ| 208,039.63|\n",
      "|North American TZ| 538,102.84|\n",
      "|   South Asian TZ|  89,469.56|\n",
      "+-----------------+-----------+\n",
      "\n"
     ]
    },
    {
     "name": "stderr",
     "output_type": "stream",
     "text": [
      "                                                                                \r"
     ]
    },
    {
     "name": "stdout",
     "output_type": "stream",
     "text": [
      "-------------------------------------------\n",
      "Batch: 188\n",
      "-------------------------------------------\n",
      "+-----------------+-----------+\n",
      "|   account_region|credit_flow|\n",
      "+-----------------+-----------+\n",
      "|  African Free TZ| 181,730.05|\n",
      "|    East Asian TZ| 333,075.70|\n",
      "|       Eurasia TZ| 214,903.15|\n",
      "|North American TZ| 544,374.75|\n",
      "|   South Asian TZ|  89,469.56|\n",
      "+-----------------+-----------+\n",
      "\n"
     ]
    },
    {
     "name": "stderr",
     "output_type": "stream",
     "text": [
      "                                                                                \r"
     ]
    },
    {
     "name": "stdout",
     "output_type": "stream",
     "text": [
      "-------------------------------------------\n",
      "Batch: 189\n",
      "-------------------------------------------\n",
      "+-----------------+-----------+\n",
      "|   account_region|credit_flow|\n",
      "+-----------------+-----------+\n",
      "|  African Free TZ| 191,237.57|\n",
      "|    East Asian TZ| 333,075.70|\n",
      "|       Eurasia TZ| 214,903.15|\n",
      "|North American TZ| 544,374.75|\n",
      "|   South Asian TZ|  89,469.56|\n",
      "+-----------------+-----------+\n",
      "\n"
     ]
    },
    {
     "name": "stderr",
     "output_type": "stream",
     "text": [
      "                                                                                \r"
     ]
    },
    {
     "name": "stdout",
     "output_type": "stream",
     "text": [
      "-------------------------------------------\n",
      "Batch: 190\n",
      "-------------------------------------------\n",
      "+-----------------+-----------+\n",
      "|   account_region|credit_flow|\n",
      "+-----------------+-----------+\n",
      "|  African Free TZ| 191,237.57|\n",
      "|    East Asian TZ| 333,075.70|\n",
      "|       Eurasia TZ| 222,930.51|\n",
      "|North American TZ| 551,858.75|\n",
      "|   South Asian TZ|  89,469.56|\n",
      "+-----------------+-----------+\n",
      "\n"
     ]
    },
    {
     "name": "stderr",
     "output_type": "stream",
     "text": [
      "                                                                                \r"
     ]
    },
    {
     "name": "stdout",
     "output_type": "stream",
     "text": [
      "-------------------------------------------\n",
      "Batch: 191\n",
      "-------------------------------------------\n",
      "+-----------------+-----------+\n",
      "|   account_region|credit_flow|\n",
      "+-----------------+-----------+\n",
      "|  African Free TZ| 191,237.57|\n",
      "|    East Asian TZ| 333,075.70|\n",
      "|       Eurasia TZ| 232,785.30|\n",
      "|North American TZ| 551,858.75|\n",
      "|   South Asian TZ|  89,469.56|\n",
      "+-----------------+-----------+\n",
      "\n"
     ]
    },
    {
     "name": "stderr",
     "output_type": "stream",
     "text": [
      "                                                                                \r"
     ]
    },
    {
     "name": "stdout",
     "output_type": "stream",
     "text": [
      "-------------------------------------------\n",
      "Batch: 192\n",
      "-------------------------------------------\n",
      "+-----------------+-----------+\n",
      "|   account_region|credit_flow|\n",
      "+-----------------+-----------+\n",
      "|  African Free TZ| 191,237.57|\n",
      "|    East Asian TZ| 333,075.70|\n",
      "|       Eurasia TZ| 232,785.30|\n",
      "|North American TZ| 559,089.53|\n",
      "|   South Asian TZ|  89,469.56|\n",
      "+-----------------+-----------+\n",
      "\n"
     ]
    },
    {
     "name": "stderr",
     "output_type": "stream",
     "text": [
      "                                                                                \r"
     ]
    },
    {
     "name": "stdout",
     "output_type": "stream",
     "text": [
      "-------------------------------------------\n",
      "Batch: 193\n",
      "-------------------------------------------\n",
      "+-----------------+-----------+\n",
      "|   account_region|credit_flow|\n",
      "+-----------------+-----------+\n",
      "|  African Free TZ| 191,237.57|\n",
      "|    East Asian TZ| 333,075.70|\n",
      "|       Eurasia TZ| 232,785.30|\n",
      "|North American TZ| 564,193.27|\n",
      "|   South Asian TZ|  89,469.56|\n",
      "+-----------------+-----------+\n",
      "\n"
     ]
    },
    {
     "name": "stderr",
     "output_type": "stream",
     "text": [
      "                                                                                \r"
     ]
    },
    {
     "name": "stdout",
     "output_type": "stream",
     "text": [
      "-------------------------------------------\n",
      "Batch: 194\n",
      "-------------------------------------------\n",
      "+-----------------+-----------+\n",
      "|   account_region|credit_flow|\n",
      "+-----------------+-----------+\n",
      "|  African Free TZ| 197,677.63|\n",
      "|    East Asian TZ| 333,075.70|\n",
      "|       Eurasia TZ| 232,785.30|\n",
      "|North American TZ| 564,193.27|\n",
      "|   South Asian TZ|  89,469.56|\n",
      "+-----------------+-----------+\n",
      "\n"
     ]
    },
    {
     "name": "stderr",
     "output_type": "stream",
     "text": [
      "                                                                                \r"
     ]
    },
    {
     "name": "stdout",
     "output_type": "stream",
     "text": [
      "-------------------------------------------\n",
      "Batch: 195\n",
      "-------------------------------------------\n",
      "+-----------------+-----------+\n",
      "|   account_region|credit_flow|\n",
      "+-----------------+-----------+\n",
      "|  African Free TZ| 203,498.25|\n",
      "|    East Asian TZ| 336,144.72|\n",
      "|       Eurasia TZ| 232,785.30|\n",
      "|North American TZ| 568,802.84|\n",
      "|   South Asian TZ|  89,469.56|\n",
      "+-----------------+-----------+\n",
      "\n"
     ]
    },
    {
     "name": "stderr",
     "output_type": "stream",
     "text": [
      "                                                                                \r"
     ]
    },
    {
     "name": "stdout",
     "output_type": "stream",
     "text": [
      "-------------------------------------------\n",
      "Batch: 196\n",
      "-------------------------------------------\n",
      "+-----------------+-----------+\n",
      "|   account_region|credit_flow|\n",
      "+-----------------+-----------+\n",
      "|  African Free TZ| 203,498.25|\n",
      "|    East Asian TZ| 336,144.72|\n",
      "|       Eurasia TZ| 232,785.30|\n",
      "|North American TZ| 568,802.84|\n",
      "|   South Asian TZ|  89,964.05|\n",
      "+-----------------+-----------+\n",
      "\n"
     ]
    },
    {
     "name": "stderr",
     "output_type": "stream",
     "text": [
      "                                                                                \r"
     ]
    },
    {
     "name": "stdout",
     "output_type": "stream",
     "text": [
      "-------------------------------------------\n",
      "Batch: 197\n",
      "-------------------------------------------\n",
      "+-----------------+-----------+\n",
      "|   account_region|credit_flow|\n",
      "+-----------------+-----------+\n",
      "|  African Free TZ| 203,498.25|\n",
      "|    East Asian TZ| 336,144.72|\n",
      "|       Eurasia TZ| 232,785.30|\n",
      "|North American TZ| 570,763.11|\n",
      "|   South Asian TZ|  89,964.05|\n",
      "+-----------------+-----------+\n",
      "\n"
     ]
    },
    {
     "name": "stderr",
     "output_type": "stream",
     "text": [
      "                                                                                \r"
     ]
    },
    {
     "name": "stdout",
     "output_type": "stream",
     "text": [
      "-------------------------------------------\n",
      "Batch: 198\n",
      "-------------------------------------------\n",
      "+-----------------+-----------+\n",
      "|   account_region|credit_flow|\n",
      "+-----------------+-----------+\n",
      "|  African Free TZ| 203,498.25|\n",
      "|    East Asian TZ| 336,144.72|\n",
      "|       Eurasia TZ| 232,785.30|\n",
      "|North American TZ| 578,469.02|\n",
      "|   South Asian TZ|  89,964.05|\n",
      "+-----------------+-----------+\n",
      "\n"
     ]
    },
    {
     "name": "stderr",
     "output_type": "stream",
     "text": [
      "                                                                                \r"
     ]
    },
    {
     "name": "stdout",
     "output_type": "stream",
     "text": [
      "-------------------------------------------\n",
      "Batch: 199\n",
      "-------------------------------------------\n",
      "+-----------------+-----------+\n",
      "|   account_region|credit_flow|\n",
      "+-----------------+-----------+\n",
      "|  African Free TZ| 203,498.25|\n",
      "|    East Asian TZ| 336,144.72|\n",
      "|       Eurasia TZ| 232,785.30|\n",
      "|North American TZ| 585,618.81|\n",
      "|   South Asian TZ|  89,964.05|\n",
      "+-----------------+-----------+\n",
      "\n"
     ]
    },
    {
     "name": "stderr",
     "output_type": "stream",
     "text": [
      "                                                                                \r"
     ]
    },
    {
     "name": "stdout",
     "output_type": "stream",
     "text": [
      "-------------------------------------------\n",
      "Batch: 200\n",
      "-------------------------------------------\n",
      "+-----------------+-----------+\n",
      "|   account_region|credit_flow|\n",
      "+-----------------+-----------+\n",
      "|  African Free TZ| 203,498.25|\n",
      "|    East Asian TZ| 336,144.72|\n",
      "|       Eurasia TZ| 232,785.30|\n",
      "|North American TZ| 594,270.88|\n",
      "|   South Asian TZ|  89,964.05|\n",
      "+-----------------+-----------+\n",
      "\n"
     ]
    },
    {
     "name": "stderr",
     "output_type": "stream",
     "text": [
      "                                                                                \r"
     ]
    },
    {
     "name": "stdout",
     "output_type": "stream",
     "text": [
      "-------------------------------------------\n",
      "Batch: 201\n",
      "-------------------------------------------\n",
      "+-----------------+-----------+\n",
      "|   account_region|credit_flow|\n",
      "+-----------------+-----------+\n",
      "|  African Free TZ| 203,498.25|\n",
      "|    East Asian TZ| 336,144.72|\n",
      "|       Eurasia TZ| 235,752.48|\n",
      "|North American TZ| 594,270.88|\n",
      "|   South Asian TZ|  89,964.05|\n",
      "+-----------------+-----------+\n",
      "\n"
     ]
    },
    {
     "name": "stderr",
     "output_type": "stream",
     "text": [
      "                                                                                \r"
     ]
    },
    {
     "name": "stdout",
     "output_type": "stream",
     "text": [
      "-------------------------------------------\n",
      "Batch: 202\n",
      "-------------------------------------------\n",
      "+-----------------+-----------+\n",
      "|   account_region|credit_flow|\n",
      "+-----------------+-----------+\n",
      "|  African Free TZ| 203,498.25|\n",
      "|    East Asian TZ| 336,144.72|\n",
      "|       Eurasia TZ| 235,752.48|\n",
      "|North American TZ| 595,661.31|\n",
      "|   South Asian TZ|  89,964.05|\n",
      "+-----------------+-----------+\n",
      "\n"
     ]
    },
    {
     "name": "stderr",
     "output_type": "stream",
     "text": [
      "                                                                                \r"
     ]
    },
    {
     "name": "stdout",
     "output_type": "stream",
     "text": [
      "-------------------------------------------\n",
      "Batch: 203\n",
      "-------------------------------------------\n",
      "+-----------------+-----------+\n",
      "|   account_region|credit_flow|\n",
      "+-----------------+-----------+\n",
      "|  African Free TZ| 203,498.25|\n",
      "|    East Asian TZ| 336,144.72|\n",
      "|       Eurasia TZ| 235,752.48|\n",
      "|North American TZ| 600,499.62|\n",
      "|   South Asian TZ|  89,964.05|\n",
      "+-----------------+-----------+\n",
      "\n"
     ]
    },
    {
     "name": "stderr",
     "output_type": "stream",
     "text": [
      "                                                                                \r"
     ]
    },
    {
     "name": "stdout",
     "output_type": "stream",
     "text": [
      "-------------------------------------------\n",
      "Batch: 204\n",
      "-------------------------------------------\n",
      "+-----------------+-----------+\n",
      "|   account_region|credit_flow|\n",
      "+-----------------+-----------+\n",
      "|  African Free TZ| 203,498.25|\n",
      "|    East Asian TZ| 336,144.72|\n",
      "|       Eurasia TZ| 235,752.48|\n",
      "|North American TZ| 606,670.34|\n",
      "|   South Asian TZ|  89,964.05|\n",
      "+-----------------+-----------+\n",
      "\n"
     ]
    },
    {
     "name": "stderr",
     "output_type": "stream",
     "text": [
      "                                                                                \r"
     ]
    },
    {
     "name": "stdout",
     "output_type": "stream",
     "text": [
      "-------------------------------------------\n",
      "Batch: 205\n",
      "-------------------------------------------\n",
      "+-----------------+-----------+\n",
      "|   account_region|credit_flow|\n",
      "+-----------------+-----------+\n",
      "|  African Free TZ| 203,498.25|\n",
      "|    East Asian TZ| 336,144.72|\n",
      "|       Eurasia TZ| 240,378.11|\n",
      "|North American TZ| 606,670.34|\n",
      "|   South Asian TZ|  89,964.05|\n",
      "+-----------------+-----------+\n",
      "\n"
     ]
    },
    {
     "name": "stderr",
     "output_type": "stream",
     "text": [
      "                                                                                \r"
     ]
    },
    {
     "name": "stdout",
     "output_type": "stream",
     "text": [
      "-------------------------------------------\n",
      "Batch: 206\n",
      "-------------------------------------------\n",
      "+-----------------+-----------+\n",
      "|   account_region|credit_flow|\n",
      "+-----------------+-----------+\n",
      "|  African Free TZ| 203,498.25|\n",
      "|    East Asian TZ| 336,252.33|\n",
      "|       Eurasia TZ| 240,378.11|\n",
      "|North American TZ| 606,670.34|\n",
      "|   South Asian TZ|  89,964.05|\n",
      "+-----------------+-----------+\n",
      "\n"
     ]
    },
    {
     "name": "stderr",
     "output_type": "stream",
     "text": [
      "                                                                                \r"
     ]
    },
    {
     "name": "stdout",
     "output_type": "stream",
     "text": [
      "-------------------------------------------\n",
      "Batch: 207\n",
      "-------------------------------------------\n",
      "+-----------------+-----------+\n",
      "|   account_region|credit_flow|\n",
      "+-----------------+-----------+\n",
      "|  African Free TZ| 203,498.25|\n",
      "|    East Asian TZ| 341,707.31|\n",
      "|       Eurasia TZ| 240,378.11|\n",
      "|North American TZ| 606,670.34|\n",
      "|   South Asian TZ|  89,964.05|\n",
      "+-----------------+-----------+\n",
      "\n"
     ]
    },
    {
     "name": "stderr",
     "output_type": "stream",
     "text": [
      "                                                                                \r"
     ]
    },
    {
     "name": "stdout",
     "output_type": "stream",
     "text": [
      "-------------------------------------------\n",
      "Batch: 208\n",
      "-------------------------------------------\n",
      "+-----------------+-----------+\n",
      "|   account_region|credit_flow|\n",
      "+-----------------+-----------+\n",
      "|  African Free TZ| 203,498.25|\n",
      "|    East Asian TZ| 341,707.31|\n",
      "|       Eurasia TZ| 240,378.11|\n",
      "|North American TZ| 613,637.85|\n",
      "|   South Asian TZ|  89,964.05|\n",
      "+-----------------+-----------+\n",
      "\n"
     ]
    },
    {
     "name": "stderr",
     "output_type": "stream",
     "text": [
      "                                                                                \r"
     ]
    },
    {
     "name": "stdout",
     "output_type": "stream",
     "text": [
      "-------------------------------------------\n",
      "Batch: 209\n",
      "-------------------------------------------\n",
      "+-----------------+-----------+\n",
      "|   account_region|credit_flow|\n",
      "+-----------------+-----------+\n",
      "|  African Free TZ| 203,498.25|\n",
      "|    East Asian TZ| 341,707.31|\n",
      "|       Eurasia TZ| 240,378.11|\n",
      "|North American TZ| 617,245.64|\n",
      "|   South Asian TZ|  89,964.05|\n",
      "+-----------------+-----------+\n",
      "\n"
     ]
    },
    {
     "name": "stderr",
     "output_type": "stream",
     "text": [
      "                                                                                \r"
     ]
    },
    {
     "name": "stdout",
     "output_type": "stream",
     "text": [
      "-------------------------------------------\n",
      "Batch: 210\n",
      "-------------------------------------------\n",
      "+-----------------+-----------+\n",
      "|   account_region|credit_flow|\n",
      "+-----------------+-----------+\n",
      "|  African Free TZ| 203,498.25|\n",
      "|    East Asian TZ| 341,707.31|\n",
      "|       Eurasia TZ| 240,378.11|\n",
      "|North American TZ| 631,309.56|\n",
      "|   South Asian TZ|  89,964.05|\n",
      "+-----------------+-----------+\n",
      "\n"
     ]
    },
    {
     "name": "stderr",
     "output_type": "stream",
     "text": [
      "                                                                                \r"
     ]
    },
    {
     "name": "stdout",
     "output_type": "stream",
     "text": [
      "-------------------------------------------\n",
      "Batch: 211\n",
      "-------------------------------------------\n",
      "+-----------------+-----------+\n",
      "|   account_region|credit_flow|\n",
      "+-----------------+-----------+\n",
      "|  African Free TZ| 203,498.25|\n",
      "|    East Asian TZ| 343,436.95|\n",
      "|       Eurasia TZ| 240,378.11|\n",
      "|North American TZ| 631,309.56|\n",
      "|   South Asian TZ|  89,964.05|\n",
      "+-----------------+-----------+\n",
      "\n"
     ]
    },
    {
     "name": "stderr",
     "output_type": "stream",
     "text": [
      "                                                                                \r"
     ]
    },
    {
     "name": "stdout",
     "output_type": "stream",
     "text": [
      "-------------------------------------------\n",
      "Batch: 212\n",
      "-------------------------------------------\n",
      "+-----------------+-----------+\n",
      "|   account_region|credit_flow|\n",
      "+-----------------+-----------+\n",
      "|  African Free TZ| 212,448.75|\n",
      "|    East Asian TZ| 343,436.95|\n",
      "|       Eurasia TZ| 240,378.11|\n",
      "|North American TZ| 634,612.58|\n",
      "|   South Asian TZ|  89,964.05|\n",
      "+-----------------+-----------+\n",
      "\n"
     ]
    },
    {
     "name": "stderr",
     "output_type": "stream",
     "text": [
      "                                                                                \r"
     ]
    },
    {
     "name": "stdout",
     "output_type": "stream",
     "text": [
      "-------------------------------------------\n",
      "Batch: 213\n",
      "-------------------------------------------\n",
      "+-----------------+-----------+\n",
      "|   account_region|credit_flow|\n",
      "+-----------------+-----------+\n",
      "|  African Free TZ| 220,365.90|\n",
      "|    East Asian TZ| 343,436.95|\n",
      "|       Eurasia TZ| 240,378.11|\n",
      "|North American TZ| 634,612.58|\n",
      "|   South Asian TZ|  89,964.05|\n",
      "+-----------------+-----------+\n",
      "\n"
     ]
    },
    {
     "name": "stderr",
     "output_type": "stream",
     "text": [
      "                                                                                \r"
     ]
    },
    {
     "name": "stdout",
     "output_type": "stream",
     "text": [
      "-------------------------------------------\n",
      "Batch: 214\n",
      "-------------------------------------------\n",
      "+-----------------+-----------+\n",
      "|   account_region|credit_flow|\n",
      "+-----------------+-----------+\n",
      "|  African Free TZ| 220,365.90|\n",
      "|    East Asian TZ| 343,436.95|\n",
      "|       Eurasia TZ| 240,378.11|\n",
      "|North American TZ| 636,738.39|\n",
      "|   South Asian TZ|  89,964.05|\n",
      "+-----------------+-----------+\n",
      "\n"
     ]
    },
    {
     "name": "stderr",
     "output_type": "stream",
     "text": [
      "                                                                                \r"
     ]
    },
    {
     "name": "stdout",
     "output_type": "stream",
     "text": [
      "-------------------------------------------\n",
      "Batch: 215\n",
      "-------------------------------------------\n",
      "+-----------------+-----------+\n",
      "|   account_region|credit_flow|\n",
      "+-----------------+-----------+\n",
      "|  African Free TZ| 220,365.90|\n",
      "|    East Asian TZ| 343,436.95|\n",
      "|       Eurasia TZ| 254,343.44|\n",
      "|North American TZ| 636,738.39|\n",
      "|   South Asian TZ|  89,964.05|\n",
      "+-----------------+-----------+\n",
      "\n"
     ]
    },
    {
     "name": "stderr",
     "output_type": "stream",
     "text": [
      "                                                                                \r"
     ]
    },
    {
     "name": "stdout",
     "output_type": "stream",
     "text": [
      "-------------------------------------------\n",
      "Batch: 216\n",
      "-------------------------------------------\n",
      "+-----------------+-----------+\n",
      "|   account_region|credit_flow|\n",
      "+-----------------+-----------+\n",
      "|  African Free TZ| 220,365.90|\n",
      "|    East Asian TZ| 343,436.95|\n",
      "|       Eurasia TZ| 254,343.44|\n",
      "|North American TZ| 641,302.33|\n",
      "|   South Asian TZ|  89,964.05|\n",
      "+-----------------+-----------+\n",
      "\n"
     ]
    },
    {
     "name": "stderr",
     "output_type": "stream",
     "text": [
      "                                                                                \r"
     ]
    },
    {
     "name": "stdout",
     "output_type": "stream",
     "text": [
      "-------------------------------------------\n",
      "Batch: 217\n",
      "-------------------------------------------\n",
      "+-----------------+-----------+\n",
      "|   account_region|credit_flow|\n",
      "+-----------------+-----------+\n",
      "|  African Free TZ| 220,365.90|\n",
      "|    East Asian TZ| 352,717.83|\n",
      "|       Eurasia TZ| 254,343.44|\n",
      "|North American TZ| 641,302.33|\n",
      "|   South Asian TZ|  89,964.05|\n",
      "+-----------------+-----------+\n",
      "\n"
     ]
    },
    {
     "name": "stderr",
     "output_type": "stream",
     "text": [
      "                                                                                \r"
     ]
    },
    {
     "name": "stdout",
     "output_type": "stream",
     "text": [
      "-------------------------------------------\n",
      "Batch: 218\n",
      "-------------------------------------------\n",
      "+-----------------+-----------+\n",
      "|   account_region|credit_flow|\n",
      "+-----------------+-----------+\n",
      "|  African Free TZ| 220,365.90|\n",
      "|    East Asian TZ| 352,717.83|\n",
      "|       Eurasia TZ| 263,606.71|\n",
      "|North American TZ| 641,302.33|\n",
      "|   South Asian TZ|  89,964.05|\n",
      "+-----------------+-----------+\n",
      "\n"
     ]
    },
    {
     "name": "stderr",
     "output_type": "stream",
     "text": [
      "                                                                                \r"
     ]
    },
    {
     "name": "stdout",
     "output_type": "stream",
     "text": [
      "-------------------------------------------\n",
      "Batch: 219\n",
      "-------------------------------------------\n",
      "+-----------------+-----------+\n",
      "|   account_region|credit_flow|\n",
      "+-----------------+-----------+\n",
      "|  African Free TZ| 220,365.90|\n",
      "|    East Asian TZ| 352,717.83|\n",
      "|       Eurasia TZ| 263,606.71|\n",
      "|North American TZ| 642,708.88|\n",
      "|   South Asian TZ|  89,964.05|\n",
      "+-----------------+-----------+\n",
      "\n"
     ]
    },
    {
     "name": "stderr",
     "output_type": "stream",
     "text": [
      "                                                                                \r"
     ]
    },
    {
     "name": "stdout",
     "output_type": "stream",
     "text": [
      "-------------------------------------------\n",
      "Batch: 220\n",
      "-------------------------------------------\n",
      "+-----------------+-----------+\n",
      "|   account_region|credit_flow|\n",
      "+-----------------+-----------+\n",
      "|  African Free TZ| 220,365.90|\n",
      "|    East Asian TZ| 352,717.83|\n",
      "|       Eurasia TZ| 263,606.71|\n",
      "|North American TZ| 642,708.88|\n",
      "|   South Asian TZ|  96,815.42|\n",
      "+-----------------+-----------+\n",
      "\n"
     ]
    },
    {
     "name": "stderr",
     "output_type": "stream",
     "text": [
      "                                                                                \r"
     ]
    },
    {
     "name": "stdout",
     "output_type": "stream",
     "text": [
      "-------------------------------------------\n",
      "Batch: 221\n",
      "-------------------------------------------\n",
      "+-----------------+-----------+\n",
      "|   account_region|credit_flow|\n",
      "+-----------------+-----------+\n",
      "|  African Free TZ| 220,365.90|\n",
      "|    East Asian TZ| 356,065.41|\n",
      "|       Eurasia TZ| 263,606.71|\n",
      "|North American TZ| 642,708.88|\n",
      "|   South Asian TZ|  96,815.42|\n",
      "+-----------------+-----------+\n",
      "\n"
     ]
    },
    {
     "name": "stderr",
     "output_type": "stream",
     "text": [
      "                                                                                \r"
     ]
    },
    {
     "name": "stdout",
     "output_type": "stream",
     "text": [
      "-------------------------------------------\n",
      "Batch: 222\n",
      "-------------------------------------------\n",
      "+-----------------+-----------+\n",
      "|   account_region|credit_flow|\n",
      "+-----------------+-----------+\n",
      "|  African Free TZ| 220,365.90|\n",
      "|    East Asian TZ| 356,065.41|\n",
      "|       Eurasia TZ| 263,606.71|\n",
      "|North American TZ| 642,981.28|\n",
      "|   South Asian TZ|  96,815.42|\n",
      "+-----------------+-----------+\n",
      "\n"
     ]
    },
    {
     "name": "stderr",
     "output_type": "stream",
     "text": [
      "                                                                                \r"
     ]
    },
    {
     "name": "stdout",
     "output_type": "stream",
     "text": [
      "-------------------------------------------\n",
      "Batch: 223\n",
      "-------------------------------------------\n",
      "+-----------------+-----------+\n",
      "|   account_region|credit_flow|\n",
      "+-----------------+-----------+\n",
      "|  African Free TZ| 220,365.90|\n",
      "|    East Asian TZ| 356,116.06|\n",
      "|       Eurasia TZ| 263,606.71|\n",
      "|North American TZ| 642,981.28|\n",
      "|   South Asian TZ|  96,815.42|\n",
      "+-----------------+-----------+\n",
      "\n"
     ]
    },
    {
     "name": "stderr",
     "output_type": "stream",
     "text": [
      "                                                                                \r"
     ]
    },
    {
     "name": "stdout",
     "output_type": "stream",
     "text": [
      "-------------------------------------------\n",
      "Batch: 224\n",
      "-------------------------------------------\n",
      "+-----------------+-----------+\n",
      "|   account_region|credit_flow|\n",
      "+-----------------+-----------+\n",
      "|  African Free TZ| 220,365.90|\n",
      "|    East Asian TZ| 364,409.44|\n",
      "|       Eurasia TZ| 263,606.71|\n",
      "|North American TZ| 642,981.28|\n",
      "|   South Asian TZ| 103,041.24|\n",
      "+-----------------+-----------+\n",
      "\n"
     ]
    },
    {
     "name": "stderr",
     "output_type": "stream",
     "text": [
      "                                                                                \r"
     ]
    },
    {
     "name": "stdout",
     "output_type": "stream",
     "text": [
      "-------------------------------------------\n",
      "Batch: 225\n",
      "-------------------------------------------\n",
      "+-----------------+-----------+\n",
      "|   account_region|credit_flow|\n",
      "+-----------------+-----------+\n",
      "|  African Free TZ| 220,365.90|\n",
      "|    East Asian TZ| 373,604.67|\n",
      "|       Eurasia TZ| 263,606.71|\n",
      "|North American TZ| 642,981.28|\n",
      "|   South Asian TZ| 103,041.24|\n",
      "+-----------------+-----------+\n",
      "\n"
     ]
    },
    {
     "name": "stderr",
     "output_type": "stream",
     "text": [
      "                                                                                \r"
     ]
    },
    {
     "name": "stdout",
     "output_type": "stream",
     "text": [
      "-------------------------------------------\n",
      "Batch: 226\n",
      "-------------------------------------------\n",
      "+-----------------+-----------+\n",
      "|   account_region|credit_flow|\n",
      "+-----------------+-----------+\n",
      "|  African Free TZ| 220,365.90|\n",
      "|    East Asian TZ| 375,399.07|\n",
      "|       Eurasia TZ| 263,606.71|\n",
      "|North American TZ| 642,981.28|\n",
      "|   South Asian TZ| 103,041.24|\n",
      "+-----------------+-----------+\n",
      "\n"
     ]
    },
    {
     "name": "stderr",
     "output_type": "stream",
     "text": [
      "                                                                                \r"
     ]
    },
    {
     "name": "stdout",
     "output_type": "stream",
     "text": [
      "-------------------------------------------\n",
      "Batch: 227\n",
      "-------------------------------------------\n",
      "+-----------------+-----------+\n",
      "|   account_region|credit_flow|\n",
      "+-----------------+-----------+\n",
      "|  African Free TZ| 220,365.90|\n",
      "|    East Asian TZ| 385,952.22|\n",
      "|       Eurasia TZ| 263,606.71|\n",
      "|North American TZ| 642,981.28|\n",
      "|   South Asian TZ| 103,041.24|\n",
      "+-----------------+-----------+\n",
      "\n"
     ]
    },
    {
     "name": "stderr",
     "output_type": "stream",
     "text": [
      "                                                                                \r"
     ]
    },
    {
     "name": "stdout",
     "output_type": "stream",
     "text": [
      "-------------------------------------------\n",
      "Batch: 228\n",
      "-------------------------------------------\n",
      "+-----------------+-----------+\n",
      "|   account_region|credit_flow|\n",
      "+-----------------+-----------+\n",
      "|  African Free TZ| 220,365.90|\n",
      "|    East Asian TZ| 385,952.22|\n",
      "|       Eurasia TZ| 263,606.71|\n",
      "|North American TZ| 646,479.30|\n",
      "|   South Asian TZ| 103,041.24|\n",
      "+-----------------+-----------+\n",
      "\n"
     ]
    },
    {
     "name": "stderr",
     "output_type": "stream",
     "text": [
      "                                                                                \r"
     ]
    },
    {
     "name": "stdout",
     "output_type": "stream",
     "text": [
      "-------------------------------------------\n",
      "Batch: 229\n",
      "-------------------------------------------\n",
      "+-----------------+-----------+\n",
      "|   account_region|credit_flow|\n",
      "+-----------------+-----------+\n",
      "|  African Free TZ| 223,951.68|\n",
      "|    East Asian TZ| 385,952.22|\n",
      "|       Eurasia TZ| 263,606.71|\n",
      "|North American TZ| 646,479.30|\n",
      "|   South Asian TZ| 103,041.24|\n",
      "+-----------------+-----------+\n",
      "\n"
     ]
    },
    {
     "name": "stderr",
     "output_type": "stream",
     "text": [
      "                                                                                \r"
     ]
    },
    {
     "name": "stdout",
     "output_type": "stream",
     "text": [
      "-------------------------------------------\n",
      "Batch: 230\n",
      "-------------------------------------------\n",
      "+-----------------+-----------+\n",
      "|   account_region|credit_flow|\n",
      "+-----------------+-----------+\n",
      "|  African Free TZ| 223,951.68|\n",
      "|    East Asian TZ| 385,952.22|\n",
      "|       Eurasia TZ| 272,031.05|\n",
      "|North American TZ| 656,392.27|\n",
      "|   South Asian TZ| 103,041.24|\n",
      "+-----------------+-----------+\n",
      "\n"
     ]
    },
    {
     "name": "stderr",
     "output_type": "stream",
     "text": [
      "                                                                                \r"
     ]
    },
    {
     "name": "stdout",
     "output_type": "stream",
     "text": [
      "-------------------------------------------\n",
      "Batch: 231\n",
      "-------------------------------------------\n",
      "+-----------------+-----------+\n",
      "|   account_region|credit_flow|\n",
      "+-----------------+-----------+\n",
      "|  African Free TZ| 223,951.68|\n",
      "|    East Asian TZ| 387,227.78|\n",
      "|       Eurasia TZ| 283,387.48|\n",
      "|North American TZ| 656,392.27|\n",
      "|   South Asian TZ| 103,041.24|\n",
      "+-----------------+-----------+\n",
      "\n"
     ]
    },
    {
     "name": "stderr",
     "output_type": "stream",
     "text": [
      "                                                                                \r"
     ]
    },
    {
     "name": "stdout",
     "output_type": "stream",
     "text": [
      "-------------------------------------------\n",
      "Batch: 232\n",
      "-------------------------------------------\n",
      "+-----------------+-----------+\n",
      "|   account_region|credit_flow|\n",
      "+-----------------+-----------+\n",
      "|  African Free TZ| 223,951.68|\n",
      "|    East Asian TZ| 396,963.22|\n",
      "|       Eurasia TZ| 283,387.48|\n",
      "|North American TZ| 656,392.27|\n",
      "|   South Asian TZ| 103,041.24|\n",
      "+-----------------+-----------+\n",
      "\n"
     ]
    },
    {
     "name": "stderr",
     "output_type": "stream",
     "text": [
      "                                                                                \r"
     ]
    },
    {
     "name": "stdout",
     "output_type": "stream",
     "text": [
      "-------------------------------------------\n",
      "Batch: 233\n",
      "-------------------------------------------\n",
      "+-----------------+-----------+\n",
      "|   account_region|credit_flow|\n",
      "+-----------------+-----------+\n",
      "|  African Free TZ| 223,951.68|\n",
      "|    East Asian TZ| 400,291.93|\n",
      "|       Eurasia TZ| 283,387.48|\n",
      "|North American TZ| 656,392.27|\n",
      "|   South Asian TZ| 103,041.24|\n",
      "+-----------------+-----------+\n",
      "\n"
     ]
    },
    {
     "name": "stderr",
     "output_type": "stream",
     "text": [
      "                                                                                \r"
     ]
    },
    {
     "name": "stdout",
     "output_type": "stream",
     "text": [
      "-------------------------------------------\n",
      "Batch: 234\n",
      "-------------------------------------------\n",
      "+-----------------+-----------+\n",
      "|   account_region|credit_flow|\n",
      "+-----------------+-----------+\n",
      "|  African Free TZ| 223,951.68|\n",
      "|    East Asian TZ| 400,291.93|\n",
      "|       Eurasia TZ| 285,871.99|\n",
      "|North American TZ| 656,392.27|\n",
      "|   South Asian TZ| 103,041.24|\n",
      "+-----------------+-----------+\n",
      "\n"
     ]
    },
    {
     "name": "stderr",
     "output_type": "stream",
     "text": [
      "                                                                                \r"
     ]
    },
    {
     "name": "stdout",
     "output_type": "stream",
     "text": [
      "-------------------------------------------\n",
      "Batch: 235\n",
      "-------------------------------------------\n",
      "+-----------------+-----------+\n",
      "|   account_region|credit_flow|\n",
      "+-----------------+-----------+\n",
      "|  African Free TZ| 233,313.98|\n",
      "|    East Asian TZ| 400,291.93|\n",
      "|       Eurasia TZ| 285,871.99|\n",
      "|North American TZ| 656,392.27|\n",
      "|   South Asian TZ| 103,041.24|\n",
      "+-----------------+-----------+\n",
      "\n"
     ]
    },
    {
     "name": "stderr",
     "output_type": "stream",
     "text": [
      "                                                                                \r"
     ]
    },
    {
     "name": "stdout",
     "output_type": "stream",
     "text": [
      "-------------------------------------------\n",
      "Batch: 236\n",
      "-------------------------------------------\n",
      "+-----------------+-----------+\n",
      "|   account_region|credit_flow|\n",
      "+-----------------+-----------+\n",
      "|  African Free TZ| 233,313.98|\n",
      "|    East Asian TZ| 400,291.93|\n",
      "|       Eurasia TZ| 288,848.81|\n",
      "|North American TZ| 656,392.27|\n",
      "|   South Asian TZ| 103,041.24|\n",
      "+-----------------+-----------+\n",
      "\n"
     ]
    },
    {
     "name": "stderr",
     "output_type": "stream",
     "text": [
      "                                                                                \r"
     ]
    },
    {
     "name": "stdout",
     "output_type": "stream",
     "text": [
      "-------------------------------------------\n",
      "Batch: 237\n",
      "-------------------------------------------\n",
      "+-----------------+-----------+\n",
      "|   account_region|credit_flow|\n",
      "+-----------------+-----------+\n",
      "|  African Free TZ| 233,313.98|\n",
      "|    East Asian TZ| 402,227.09|\n",
      "|       Eurasia TZ| 288,848.81|\n",
      "|North American TZ| 656,392.27|\n",
      "|   South Asian TZ| 103,041.24|\n",
      "+-----------------+-----------+\n",
      "\n"
     ]
    },
    {
     "name": "stderr",
     "output_type": "stream",
     "text": [
      "                                                                                \r"
     ]
    },
    {
     "name": "stdout",
     "output_type": "stream",
     "text": [
      "-------------------------------------------\n",
      "Batch: 238\n",
      "-------------------------------------------\n",
      "+-----------------+-----------+\n",
      "|   account_region|credit_flow|\n",
      "+-----------------+-----------+\n",
      "|  African Free TZ| 233,313.98|\n",
      "|    East Asian TZ| 410,088.53|\n",
      "|       Eurasia TZ| 288,848.81|\n",
      "|North American TZ| 656,392.27|\n",
      "|   South Asian TZ| 103,041.24|\n",
      "+-----------------+-----------+\n",
      "\n"
     ]
    },
    {
     "name": "stderr",
     "output_type": "stream",
     "text": [
      "                                                                                \r"
     ]
    },
    {
     "name": "stdout",
     "output_type": "stream",
     "text": [
      "-------------------------------------------\n",
      "Batch: 239\n",
      "-------------------------------------------\n",
      "+-----------------+-----------+\n",
      "|   account_region|credit_flow|\n",
      "+-----------------+-----------+\n",
      "|  African Free TZ| 233,313.98|\n",
      "|    East Asian TZ| 416,612.96|\n",
      "|       Eurasia TZ| 288,848.81|\n",
      "|North American TZ| 656,392.27|\n",
      "|   South Asian TZ| 103,041.24|\n",
      "+-----------------+-----------+\n",
      "\n"
     ]
    },
    {
     "name": "stderr",
     "output_type": "stream",
     "text": [
      "                                                                                \r"
     ]
    },
    {
     "name": "stdout",
     "output_type": "stream",
     "text": [
      "-------------------------------------------\n",
      "Batch: 240\n",
      "-------------------------------------------\n",
      "+-----------------+-----------+\n",
      "|   account_region|credit_flow|\n",
      "+-----------------+-----------+\n",
      "|  African Free TZ| 233,313.98|\n",
      "|    East Asian TZ| 417,703.14|\n",
      "|       Eurasia TZ| 288,848.81|\n",
      "|North American TZ| 656,392.27|\n",
      "|   South Asian TZ| 103,041.24|\n",
      "+-----------------+-----------+\n",
      "\n"
     ]
    },
    {
     "name": "stderr",
     "output_type": "stream",
     "text": [
      "                                                                                \r"
     ]
    },
    {
     "name": "stdout",
     "output_type": "stream",
     "text": [
      "-------------------------------------------\n",
      "Batch: 241\n",
      "-------------------------------------------\n",
      "+-----------------+-----------+\n",
      "|   account_region|credit_flow|\n",
      "+-----------------+-----------+\n",
      "|  African Free TZ| 233,313.98|\n",
      "|    East Asian TZ| 420,404.38|\n",
      "|       Eurasia TZ| 288,848.81|\n",
      "|North American TZ| 656,392.27|\n",
      "|   South Asian TZ| 110,422.77|\n",
      "+-----------------+-----------+\n",
      "\n"
     ]
    },
    {
     "name": "stderr",
     "output_type": "stream",
     "text": [
      "ERROR:root:KeyboardInterrupt while sending command.=========>   (186 + 4) / 200]\n",
      "Traceback (most recent call last):\n",
      "  File \"/home/mia/.local/lib/python3.10/site-packages/py4j/java_gateway.py\", line 1038, in send_command\n",
      "    response = connection.send_command(command)\n",
      "  File \"/home/mia/.local/lib/python3.10/site-packages/py4j/clientserver.py\", line 511, in send_command\n",
      "    answer = smart_decode(self.stream.readline()[:-1])\n",
      "  File \"/usr/lib/python3.10/socket.py\", line 705, in readinto\n",
      "    return self._sock.recv_into(b)\n",
      "KeyboardInterrupt\n",
      "ERROR:root:KeyboardInterrupt while sending command.=========>   (186 + 4) / 200]\n",
      "Traceback (most recent call last):\n",
      "  File \"/home/mia/.local/lib/python3.10/site-packages/py4j/java_gateway.py\", line 1038, in send_command\n",
      "    response = connection.send_command(command)\n",
      "  File \"/home/mia/.local/lib/python3.10/site-packages/py4j/clientserver.py\", line 511, in send_command\n",
      "    answer = smart_decode(self.stream.readline()[:-1])\n",
      "  File \"/usr/lib/python3.10/socket.py\", line 705, in readinto\n",
      "    return self._sock.recv_into(b)\n",
      "KeyboardInterrupt\n",
      "                                                                                \r"
     ]
    },
    {
     "name": "stdout",
     "output_type": "stream",
     "text": [
      "-------------------------------------------\n",
      "Batch: 242\n",
      "-------------------------------------------\n",
      "+-----------------+-----------+\n",
      "|   account_region|credit_flow|\n",
      "+-----------------+-----------+\n",
      "|  African Free TZ| 239,745.41|\n",
      "|    East Asian TZ| 420,404.38|\n",
      "|       Eurasia TZ| 288,848.81|\n",
      "|North American TZ| 656,392.27|\n",
      "|   South Asian TZ| 110,422.77|\n",
      "+-----------------+-----------+\n",
      "\n"
     ]
    },
    {
     "ename": "KeyboardInterrupt",
     "evalue": "",
     "output_type": "error",
     "traceback": [
      "\u001b[0;31m---------------------------------------------------------------------------\u001b[0m",
      "\u001b[0;31mKeyboardInterrupt\u001b[0m                         Traceback (most recent call last)",
      "Cell \u001b[0;32mIn[3], line 8\u001b[0m\n\u001b[1;32m      1\u001b[0m \u001b[38;5;66;03m# query = json_data \\\u001b[39;00m\n\u001b[1;32m      2\u001b[0m query \u001b[38;5;241m=\u001b[39m region_data \\\n\u001b[1;32m      3\u001b[0m     \u001b[38;5;241m.\u001b[39mwriteStream \\\n\u001b[1;32m      4\u001b[0m     \u001b[38;5;241m.\u001b[39moutputMode(\u001b[38;5;124m\"\u001b[39m\u001b[38;5;124mcomplete\u001b[39m\u001b[38;5;124m\"\u001b[39m) \\\n\u001b[1;32m      5\u001b[0m     \u001b[38;5;241m.\u001b[39mformat(\u001b[38;5;124m'\u001b[39m\u001b[38;5;124mconsole\u001b[39m\u001b[38;5;124m'\u001b[39m) \\\n\u001b[1;32m      6\u001b[0m     \u001b[38;5;241m.\u001b[39mstart()\n\u001b[0;32m----> 8\u001b[0m \u001b[43mquery\u001b[49m\u001b[38;5;241;43m.\u001b[39;49m\u001b[43mawaitTermination\u001b[49m\u001b[43m(\u001b[49m\u001b[43m)\u001b[49m\n",
      "File \u001b[0;32m~/spark-3.4.0-bin-hadoop3/python/pyspark/sql/streaming/query.py:201\u001b[0m, in \u001b[0;36mStreamingQuery.awaitTermination\u001b[0;34m(self, timeout)\u001b[0m\n\u001b[1;32m    199\u001b[0m     \u001b[38;5;28;01mreturn\u001b[39;00m \u001b[38;5;28mself\u001b[39m\u001b[38;5;241m.\u001b[39m_jsq\u001b[38;5;241m.\u001b[39mawaitTermination(\u001b[38;5;28mint\u001b[39m(timeout \u001b[38;5;241m*\u001b[39m \u001b[38;5;241m1000\u001b[39m))\n\u001b[1;32m    200\u001b[0m \u001b[38;5;28;01melse\u001b[39;00m:\n\u001b[0;32m--> 201\u001b[0m     \u001b[38;5;28;01mreturn\u001b[39;00m \u001b[38;5;28;43mself\u001b[39;49m\u001b[38;5;241;43m.\u001b[39;49m\u001b[43m_jsq\u001b[49m\u001b[38;5;241;43m.\u001b[39;49m\u001b[43mawaitTermination\u001b[49m\u001b[43m(\u001b[49m\u001b[43m)\u001b[49m\n",
      "File \u001b[0;32m~/.local/lib/python3.10/site-packages/py4j/java_gateway.py:1321\u001b[0m, in \u001b[0;36mJavaMember.__call__\u001b[0;34m(self, *args)\u001b[0m\n\u001b[1;32m   1314\u001b[0m args_command, temp_args \u001b[38;5;241m=\u001b[39m \u001b[38;5;28mself\u001b[39m\u001b[38;5;241m.\u001b[39m_build_args(\u001b[38;5;241m*\u001b[39margs)\n\u001b[1;32m   1316\u001b[0m command \u001b[38;5;241m=\u001b[39m proto\u001b[38;5;241m.\u001b[39mCALL_COMMAND_NAME \u001b[38;5;241m+\u001b[39m\\\n\u001b[1;32m   1317\u001b[0m     \u001b[38;5;28mself\u001b[39m\u001b[38;5;241m.\u001b[39mcommand_header \u001b[38;5;241m+\u001b[39m\\\n\u001b[1;32m   1318\u001b[0m     args_command \u001b[38;5;241m+\u001b[39m\\\n\u001b[1;32m   1319\u001b[0m     proto\u001b[38;5;241m.\u001b[39mEND_COMMAND_PART\n\u001b[0;32m-> 1321\u001b[0m answer \u001b[38;5;241m=\u001b[39m \u001b[38;5;28;43mself\u001b[39;49m\u001b[38;5;241;43m.\u001b[39;49m\u001b[43mgateway_client\u001b[49m\u001b[38;5;241;43m.\u001b[39;49m\u001b[43msend_command\u001b[49m\u001b[43m(\u001b[49m\u001b[43mcommand\u001b[49m\u001b[43m)\u001b[49m\n\u001b[1;32m   1322\u001b[0m return_value \u001b[38;5;241m=\u001b[39m get_return_value(\n\u001b[1;32m   1323\u001b[0m     answer, \u001b[38;5;28mself\u001b[39m\u001b[38;5;241m.\u001b[39mgateway_client, \u001b[38;5;28mself\u001b[39m\u001b[38;5;241m.\u001b[39mtarget_id, \u001b[38;5;28mself\u001b[39m\u001b[38;5;241m.\u001b[39mname)\n\u001b[1;32m   1325\u001b[0m \u001b[38;5;28;01mfor\u001b[39;00m temp_arg \u001b[38;5;129;01min\u001b[39;00m temp_args:\n",
      "File \u001b[0;32m~/.local/lib/python3.10/site-packages/py4j/java_gateway.py:1038\u001b[0m, in \u001b[0;36mGatewayClient.send_command\u001b[0;34m(self, command, retry, binary)\u001b[0m\n\u001b[1;32m   1036\u001b[0m connection \u001b[38;5;241m=\u001b[39m \u001b[38;5;28mself\u001b[39m\u001b[38;5;241m.\u001b[39m_get_connection()\n\u001b[1;32m   1037\u001b[0m \u001b[38;5;28;01mtry\u001b[39;00m:\n\u001b[0;32m-> 1038\u001b[0m     response \u001b[38;5;241m=\u001b[39m \u001b[43mconnection\u001b[49m\u001b[38;5;241;43m.\u001b[39;49m\u001b[43msend_command\u001b[49m\u001b[43m(\u001b[49m\u001b[43mcommand\u001b[49m\u001b[43m)\u001b[49m\n\u001b[1;32m   1039\u001b[0m     \u001b[38;5;28;01mif\u001b[39;00m binary:\n\u001b[1;32m   1040\u001b[0m         \u001b[38;5;28;01mreturn\u001b[39;00m response, \u001b[38;5;28mself\u001b[39m\u001b[38;5;241m.\u001b[39m_create_connection_guard(connection)\n",
      "File \u001b[0;32m~/.local/lib/python3.10/site-packages/py4j/clientserver.py:511\u001b[0m, in \u001b[0;36mClientServerConnection.send_command\u001b[0;34m(self, command)\u001b[0m\n\u001b[1;32m    509\u001b[0m \u001b[38;5;28;01mtry\u001b[39;00m:\n\u001b[1;32m    510\u001b[0m     \u001b[38;5;28;01mwhile\u001b[39;00m \u001b[38;5;28;01mTrue\u001b[39;00m:\n\u001b[0;32m--> 511\u001b[0m         answer \u001b[38;5;241m=\u001b[39m smart_decode(\u001b[38;5;28;43mself\u001b[39;49m\u001b[38;5;241;43m.\u001b[39;49m\u001b[43mstream\u001b[49m\u001b[38;5;241;43m.\u001b[39;49m\u001b[43mreadline\u001b[49m\u001b[43m(\u001b[49m\u001b[43m)\u001b[49m[:\u001b[38;5;241m-\u001b[39m\u001b[38;5;241m1\u001b[39m])\n\u001b[1;32m    512\u001b[0m         logger\u001b[38;5;241m.\u001b[39mdebug(\u001b[38;5;124m\"\u001b[39m\u001b[38;5;124mAnswer received: \u001b[39m\u001b[38;5;132;01m{0}\u001b[39;00m\u001b[38;5;124m\"\u001b[39m\u001b[38;5;241m.\u001b[39mformat(answer))\n\u001b[1;32m    513\u001b[0m         \u001b[38;5;66;03m# Happens when a the other end is dead. There might be an empty\u001b[39;00m\n\u001b[1;32m    514\u001b[0m         \u001b[38;5;66;03m# answer before the socket raises an error.\u001b[39;00m\n",
      "File \u001b[0;32m/usr/lib/python3.10/socket.py:705\u001b[0m, in \u001b[0;36mSocketIO.readinto\u001b[0;34m(self, b)\u001b[0m\n\u001b[1;32m    703\u001b[0m \u001b[38;5;28;01mwhile\u001b[39;00m \u001b[38;5;28;01mTrue\u001b[39;00m:\n\u001b[1;32m    704\u001b[0m     \u001b[38;5;28;01mtry\u001b[39;00m:\n\u001b[0;32m--> 705\u001b[0m         \u001b[38;5;28;01mreturn\u001b[39;00m \u001b[38;5;28;43mself\u001b[39;49m\u001b[38;5;241;43m.\u001b[39;49m\u001b[43m_sock\u001b[49m\u001b[38;5;241;43m.\u001b[39;49m\u001b[43mrecv_into\u001b[49m\u001b[43m(\u001b[49m\u001b[43mb\u001b[49m\u001b[43m)\u001b[49m\n\u001b[1;32m    706\u001b[0m     \u001b[38;5;28;01mexcept\u001b[39;00m timeout:\n\u001b[1;32m    707\u001b[0m         \u001b[38;5;28mself\u001b[39m\u001b[38;5;241m.\u001b[39m_timeout_occurred \u001b[38;5;241m=\u001b[39m \u001b[38;5;28;01mTrue\u001b[39;00m\n",
      "\u001b[0;31mKeyboardInterrupt\u001b[0m: "
     ]
    }
   ],
   "source": [
    "# query = json_data \\\n",
    "query = region_data \\\n",
    "    .writeStream \\\n",
    "    .outputMode(\"complete\") \\ # outputMode(\"append\") for Stream Listening View\n",
    "    .format('console') \\\n",
    "    .start()\n",
    "\n",
    "query.awaitTermination()"
   ]
  },
  {
   "cell_type": "code",
   "execution_count": null,
   "metadata": {},
   "outputs": [],
   "source": []
  },
  {
   "cell_type": "code",
   "execution_count": null,
   "metadata": {},
   "outputs": [],
   "source": []
  }
 ],
 "metadata": {
  "anaconda-cloud": {},
  "kernelspec": {
   "display_name": "Python 3 (ipykernel)",
   "language": "python",
   "name": "python3"
  },
  "language_info": {
   "codemirror_mode": {
    "name": "ipython",
    "version": 3
   },
   "file_extension": ".py",
   "mimetype": "text/x-python",
   "name": "python",
   "nbconvert_exporter": "python",
   "pygments_lexer": "ipython3",
   "version": "3.10.6"
  }
 },
 "nbformat": 4,
 "nbformat_minor": 1
}
